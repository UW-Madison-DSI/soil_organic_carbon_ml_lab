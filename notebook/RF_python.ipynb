{
  "nbformat": 4,
  "nbformat_minor": 0,
  "metadata": {
    "colab": {
      "provenance": []
    },
    "kernelspec": {
      "name": "python3",
      "display_name": "Python 3"
    },
    "language_info": {
      "name": "python"
    }
  },
  "cells": [
    {
      "cell_type": "code",
      "execution_count": null,
      "metadata": {
        "id": "YKU7mqVffduH"
      },
      "outputs": [],
      "source": [
        "# Pandas is used for data manipulation\n",
        "import pandas as pd\n"
      ]
    },
    {
      "cell_type": "code",
      "source": [
        "import pandas as pd\n",
        "import numpy as np\n",
        "\n",
        "# Read the data in CSV format\n",
        "soil_data = pd.read_csv('soil.txt', header=0, sep=\",\")\n",
        "\n",
        "# Remove rows with missing values\n",
        "soil_data = soil_data.dropna()\n",
        "\n",
        "# Select specific columns (excluding columns 1 to 4, 17, and 20)\n",
        "soil_df = soil_data#.drop(soil_data.columns[[0, 1, 2, 3, 16, 19]], axis=1)\n",
        "\n",
        "# Convert column 16 (now column 12 after dropping columns) to categorical type\n",
        "soil_df.iloc[:, 12] = soil_df.iloc[:, 12].astype('category')\n",
        "\n",
        "# Number of data\n",
        "nd = soil_df.shape[0]\n",
        "\n",
        "# Split Calibration: 75% and Validation 25%\n",
        "np.random.seed(111)  # Set a random seed\n",
        "ic = np.random.choice(nd, size=round(nd * 0.75), replace=False)  # Generate a random permutation of data\n",
        "\n",
        "# Form the calibration set\n",
        "cali = soil_df.iloc[ic, :]\n",
        "\n",
        "# Form the validation set by selecting the indices not in the calibration set\n",
        "vali_indices = soil_df.index.difference(ic)\n",
        "vali = soil_df.loc[vali_indices]\n",
        "\n",
        "# Print the number of samples in each set to verify\n",
        "print(f'Number of samples in calibration set: {cali.shape[0]}')\n",
        "print(f'Number of samples in validation set: {vali.shape[0]}')\n"
      ],
      "metadata": {
        "colab": {
          "base_uri": "https://localhost:8080/"
        },
        "id": "kY3mW8DXMGmd",
        "outputId": "f865066e-cd32-404e-f1b9-761970ff0118"
      },
      "execution_count": 7,
      "outputs": [
        {
          "output_type": "stream",
          "name": "stdout",
          "text": [
            "Number of samples in calibration set: 2206\n",
            "Number of samples in validation set: 876\n"
          ]
        }
      ]
    },
    {
      "cell_type": "code",
      "source": [
        "from sklearn.ensemble import RandomForestRegressor\n",
        "from sklearn.metrics import r2_score\n",
        "\n",
        "# Define the features and target variable\n",
        "features = ['Depth', 'tmax', 'tmin', 'prcp', 'lc', 'clay', 'silt', 'sand', 'dem', 'slope', 'aspect', 'hillshade', 'twi', 'mrvbf']\n",
        "target = 'SOC'\n",
        "\n",
        "# Extract features and target variable for calibration set\n",
        "X_cali = cali[features]\n",
        "y_cali = cali[target]\n",
        "\n",
        "# Train the Random Forest model\n",
        "rf_model = RandomForestRegressor(n_estimators=500, max_features=10, random_state=42)\n",
        "rf_model.fit(X_cali, y_cali)\n",
        "\n",
        "# Predict on the calibration data\n",
        "rf_predict = rf_model.predict(X_cali)\n",
        "\n",
        "# Calculate goodness of fit\n",
        "gof_rf_predict = r2_score(y_cali, rf_predict)\n",
        "\n",
        "# Calibration\n",
        "print(\"Goodness of fit:\", gof_rf_predict)\n"
      ],
      "metadata": {
        "colab": {
          "base_uri": "https://localhost:8080/"
        },
        "id": "huJUf_6hMkcW",
        "outputId": "c854192c-c802-4163-d515-237284ae1898"
      },
      "execution_count": 8,
      "outputs": [
        {
          "output_type": "stream",
          "name": "stdout",
          "text": [
            "Goodness of fit: 0.9222235623515054\n"
          ]
        }
      ]
    },
    {
      "cell_type": "code",
      "source": [
        "X_cali.columns"
      ],
      "metadata": {
        "colab": {
          "base_uri": "https://localhost:8080/"
        },
        "id": "_wcBSabDOt7d",
        "outputId": "dde17709-eab5-43ee-d00f-e6e39187cb64"
      },
      "execution_count": 18,
      "outputs": [
        {
          "output_type": "execute_result",
          "data": {
            "text/plain": [
              "Index(['Depth', 'tmax', 'tmin', 'prcp', 'lc', 'clay', 'silt', 'sand', 'dem',\n",
              "       'slope', 'aspect', 'hillshade', 'twi', 'mrvbf'],\n",
              "      dtype='object')"
            ]
          },
          "metadata": {},
          "execution_count": 18
        }
      ]
    },
    {
      "cell_type": "code",
      "source": [
        "from joblib import dump\n",
        "\n",
        "# Guarda el modelo entrenado en un archivo\n",
        "dump(rf_model, 'rf_model.joblib')\n"
      ],
      "metadata": {
        "colab": {
          "base_uri": "https://localhost:8080/"
        },
        "id": "kF0moxeDNFda",
        "outputId": "08f9cabf-fe10-42d2-fc34-2efb124284f8"
      },
      "execution_count": 9,
      "outputs": [
        {
          "output_type": "execute_result",
          "data": {
            "text/plain": [
              "['rf_model.joblib']"
            ]
          },
          "metadata": {},
          "execution_count": 9
        }
      ]
    },
    {
      "cell_type": "code",
      "source": [
        "from joblib import load\n",
        "\n",
        "# Carga el modelo desde el archivo\n",
        "rf_model = load('rf_model.joblib')\n",
        "\n",
        "# Usa el modelo cargado para hacer predicciones\n",
        "predictions = rf_model.predict(X_cali)  # Por ejemplo, X_test es tu conjunto de datos de prueba\n"
      ],
      "metadata": {
        "id": "GkcEHIxYNY3U"
      },
      "execution_count": 11,
      "outputs": []
    },
    {
      "cell_type": "code",
      "source": [
        "predictions"
      ],
      "metadata": {
        "colab": {
          "base_uri": "https://localhost:8080/"
        },
        "id": "oCWvXTpXNfIg",
        "outputId": "f9820e40-f70f-414c-a665-aba4126ac2f5"
      },
      "execution_count": 12,
      "outputs": [
        {
          "output_type": "execute_result",
          "data": {
            "text/plain": [
              "array([0.2800792 , 0.42556075, 2.37493076, ..., 1.78812623, 1.88244104,\n",
              "       0.85083708])"
            ]
          },
          "metadata": {},
          "execution_count": 12
        }
      ]
    },
    {
      "cell_type": "code",
      "source": [
        "grid_2002=pd.read_csv('grid_2002.txt', header=0, sep=\",\")\n",
        "#read.table('grid_2002.txt',header = T,sep = \",\")\n",
        "grid_2002.iloc[:, 16] = grid_2002.iloc[:, 16].astype('category')"
      ],
      "metadata": {
        "id": "qIuJFDN6NkIu"
      },
      "execution_count": 13,
      "outputs": []
    },
    {
      "cell_type": "code",
      "source": [
        "grid_20021 = grid_2002.dropna()"
      ],
      "metadata": {
        "id": "AwGxkBXgOgFp"
      },
      "execution_count": 20,
      "outputs": []
    },
    {
      "cell_type": "code",
      "source": [
        "grid_20021"
      ],
      "metadata": {
        "colab": {
          "base_uri": "https://localhost:8080/",
          "height": 433
        },
        "id": "U9t0kO2cPUF1",
        "outputId": "7f73b04a-cb10-4015-bbbb-89968569cfb7"
      },
      "execution_count": 23,
      "outputs": [
        {
          "output_type": "execute_result",
          "data": {
            "text/plain": [
              "        Column       POINT_X       POINT_Y  Depth  dem     slope    aspect  \\\n",
              "0            1  387009.77612  2.677053e+06      5  189  0.000057  6.283185   \n",
              "1            2  385009.77612  2.676553e+06      5  195  0.000036  4.321398   \n",
              "2            3  386009.77612  2.676553e+06      5  188  0.023566  0.785398   \n",
              "3            4  386509.77612  2.676553e+06      5  185  0.000047  4.712389   \n",
              "4            5  383509.77612  2.676053e+06      5  192  0.019766  0.001685   \n",
              "...        ...           ...           ...    ...  ...       ...       ...   \n",
              "711557  711558  333509.77612  2.426053e+06     15  226  0.000036  4.324070   \n",
              "711558  711559  334009.77612  2.426053e+06     15  226  0.000036  4.321398   \n",
              "711559  711560  334509.77612  2.426053e+06     15  224  0.000123  5.890779   \n",
              "711560  711561  335009.77612  2.426053e+06     15  226  0.000047  4.712389   \n",
              "711561  711562  335509.77612  2.426053e+06     15  223  0.000636  4.638317   \n",
              "\n",
              "        hillshade        twi     mrvbf  clay  silt  sand     BD   pH    lc  \\\n",
              "0        0.785358  11.223489  2.568818  10.0  35.0  55.0  0.680  4.8   9.0   \n",
              "1        0.785384  10.409254  1.721937   8.0  34.0  58.0  0.643  4.7   9.0   \n",
              "2        0.785676   6.614168  3.018307   9.0  31.0  60.0  0.722  4.7   9.0   \n",
              "3        0.785365  11.618745  3.698948   8.0  28.0  64.0  0.742  4.9  15.0   \n",
              "4        0.771545   7.118727  1.829659   9.0  35.0  56.0  0.685  4.7   9.0   \n",
              "...           ...        ...       ...   ...   ...   ...    ...  ...   ...   \n",
              "711557   0.785384  13.558636  7.956529   5.0  17.0  78.0  1.166  5.4   8.0   \n",
              "711558   0.785384   9.873368  7.960195   6.0  23.0  71.0  1.133  6.2   9.0   \n",
              "711559   0.785285   9.639392  7.952762   7.0  16.0  77.0  1.104  5.3   8.0   \n",
              "711560   0.785365  12.717940  7.962896   8.0  23.0  69.0  1.072  5.2   9.0   \n",
              "711561   0.784983  18.239668  7.944999  11.0  19.0  70.0  1.062  5.5   8.0   \n",
              "\n",
              "             tmax      tmin    prcp  \n",
              "0       10.702740  0.556164   753.0  \n",
              "1       10.704109  0.517808   762.0  \n",
              "2       10.695890  0.510959   764.0  \n",
              "3       10.695890  0.510959   764.0  \n",
              "4       10.756165  0.646575   750.0  \n",
              "...           ...       ...     ...  \n",
              "711557  13.769863  2.810959  1083.0  \n",
              "711558  13.757534  2.789041  1090.0  \n",
              "711559  13.757534  2.789041  1090.0  \n",
              "711560  13.767123  2.793151  1105.0  \n",
              "711561  13.767123  2.793151  1105.0  \n",
              "\n",
              "[711562 rows x 19 columns]"
            ],
            "text/html": [
              "\n",
              "  <div id=\"df-5ebff224-bd17-4a22-aff8-b1090480cdaf\" class=\"colab-df-container\">\n",
              "    <div>\n",
              "<style scoped>\n",
              "    .dataframe tbody tr th:only-of-type {\n",
              "        vertical-align: middle;\n",
              "    }\n",
              "\n",
              "    .dataframe tbody tr th {\n",
              "        vertical-align: top;\n",
              "    }\n",
              "\n",
              "    .dataframe thead th {\n",
              "        text-align: right;\n",
              "    }\n",
              "</style>\n",
              "<table border=\"1\" class=\"dataframe\">\n",
              "  <thead>\n",
              "    <tr style=\"text-align: right;\">\n",
              "      <th></th>\n",
              "      <th>Column</th>\n",
              "      <th>POINT_X</th>\n",
              "      <th>POINT_Y</th>\n",
              "      <th>Depth</th>\n",
              "      <th>dem</th>\n",
              "      <th>slope</th>\n",
              "      <th>aspect</th>\n",
              "      <th>hillshade</th>\n",
              "      <th>twi</th>\n",
              "      <th>mrvbf</th>\n",
              "      <th>clay</th>\n",
              "      <th>silt</th>\n",
              "      <th>sand</th>\n",
              "      <th>BD</th>\n",
              "      <th>pH</th>\n",
              "      <th>lc</th>\n",
              "      <th>tmax</th>\n",
              "      <th>tmin</th>\n",
              "      <th>prcp</th>\n",
              "    </tr>\n",
              "  </thead>\n",
              "  <tbody>\n",
              "    <tr>\n",
              "      <th>0</th>\n",
              "      <td>1</td>\n",
              "      <td>387009.77612</td>\n",
              "      <td>2.677053e+06</td>\n",
              "      <td>5</td>\n",
              "      <td>189</td>\n",
              "      <td>0.000057</td>\n",
              "      <td>6.283185</td>\n",
              "      <td>0.785358</td>\n",
              "      <td>11.223489</td>\n",
              "      <td>2.568818</td>\n",
              "      <td>10.0</td>\n",
              "      <td>35.0</td>\n",
              "      <td>55.0</td>\n",
              "      <td>0.680</td>\n",
              "      <td>4.8</td>\n",
              "      <td>9.0</td>\n",
              "      <td>10.702740</td>\n",
              "      <td>0.556164</td>\n",
              "      <td>753.0</td>\n",
              "    </tr>\n",
              "    <tr>\n",
              "      <th>1</th>\n",
              "      <td>2</td>\n",
              "      <td>385009.77612</td>\n",
              "      <td>2.676553e+06</td>\n",
              "      <td>5</td>\n",
              "      <td>195</td>\n",
              "      <td>0.000036</td>\n",
              "      <td>4.321398</td>\n",
              "      <td>0.785384</td>\n",
              "      <td>10.409254</td>\n",
              "      <td>1.721937</td>\n",
              "      <td>8.0</td>\n",
              "      <td>34.0</td>\n",
              "      <td>58.0</td>\n",
              "      <td>0.643</td>\n",
              "      <td>4.7</td>\n",
              "      <td>9.0</td>\n",
              "      <td>10.704109</td>\n",
              "      <td>0.517808</td>\n",
              "      <td>762.0</td>\n",
              "    </tr>\n",
              "    <tr>\n",
              "      <th>2</th>\n",
              "      <td>3</td>\n",
              "      <td>386009.77612</td>\n",
              "      <td>2.676553e+06</td>\n",
              "      <td>5</td>\n",
              "      <td>188</td>\n",
              "      <td>0.023566</td>\n",
              "      <td>0.785398</td>\n",
              "      <td>0.785676</td>\n",
              "      <td>6.614168</td>\n",
              "      <td>3.018307</td>\n",
              "      <td>9.0</td>\n",
              "      <td>31.0</td>\n",
              "      <td>60.0</td>\n",
              "      <td>0.722</td>\n",
              "      <td>4.7</td>\n",
              "      <td>9.0</td>\n",
              "      <td>10.695890</td>\n",
              "      <td>0.510959</td>\n",
              "      <td>764.0</td>\n",
              "    </tr>\n",
              "    <tr>\n",
              "      <th>3</th>\n",
              "      <td>4</td>\n",
              "      <td>386509.77612</td>\n",
              "      <td>2.676553e+06</td>\n",
              "      <td>5</td>\n",
              "      <td>185</td>\n",
              "      <td>0.000047</td>\n",
              "      <td>4.712389</td>\n",
              "      <td>0.785365</td>\n",
              "      <td>11.618745</td>\n",
              "      <td>3.698948</td>\n",
              "      <td>8.0</td>\n",
              "      <td>28.0</td>\n",
              "      <td>64.0</td>\n",
              "      <td>0.742</td>\n",
              "      <td>4.9</td>\n",
              "      <td>15.0</td>\n",
              "      <td>10.695890</td>\n",
              "      <td>0.510959</td>\n",
              "      <td>764.0</td>\n",
              "    </tr>\n",
              "    <tr>\n",
              "      <th>4</th>\n",
              "      <td>5</td>\n",
              "      <td>383509.77612</td>\n",
              "      <td>2.676053e+06</td>\n",
              "      <td>5</td>\n",
              "      <td>192</td>\n",
              "      <td>0.019766</td>\n",
              "      <td>0.001685</td>\n",
              "      <td>0.771545</td>\n",
              "      <td>7.118727</td>\n",
              "      <td>1.829659</td>\n",
              "      <td>9.0</td>\n",
              "      <td>35.0</td>\n",
              "      <td>56.0</td>\n",
              "      <td>0.685</td>\n",
              "      <td>4.7</td>\n",
              "      <td>9.0</td>\n",
              "      <td>10.756165</td>\n",
              "      <td>0.646575</td>\n",
              "      <td>750.0</td>\n",
              "    </tr>\n",
              "    <tr>\n",
              "      <th>...</th>\n",
              "      <td>...</td>\n",
              "      <td>...</td>\n",
              "      <td>...</td>\n",
              "      <td>...</td>\n",
              "      <td>...</td>\n",
              "      <td>...</td>\n",
              "      <td>...</td>\n",
              "      <td>...</td>\n",
              "      <td>...</td>\n",
              "      <td>...</td>\n",
              "      <td>...</td>\n",
              "      <td>...</td>\n",
              "      <td>...</td>\n",
              "      <td>...</td>\n",
              "      <td>...</td>\n",
              "      <td>...</td>\n",
              "      <td>...</td>\n",
              "      <td>...</td>\n",
              "      <td>...</td>\n",
              "    </tr>\n",
              "    <tr>\n",
              "      <th>711557</th>\n",
              "      <td>711558</td>\n",
              "      <td>333509.77612</td>\n",
              "      <td>2.426053e+06</td>\n",
              "      <td>15</td>\n",
              "      <td>226</td>\n",
              "      <td>0.000036</td>\n",
              "      <td>4.324070</td>\n",
              "      <td>0.785384</td>\n",
              "      <td>13.558636</td>\n",
              "      <td>7.956529</td>\n",
              "      <td>5.0</td>\n",
              "      <td>17.0</td>\n",
              "      <td>78.0</td>\n",
              "      <td>1.166</td>\n",
              "      <td>5.4</td>\n",
              "      <td>8.0</td>\n",
              "      <td>13.769863</td>\n",
              "      <td>2.810959</td>\n",
              "      <td>1083.0</td>\n",
              "    </tr>\n",
              "    <tr>\n",
              "      <th>711558</th>\n",
              "      <td>711559</td>\n",
              "      <td>334009.77612</td>\n",
              "      <td>2.426053e+06</td>\n",
              "      <td>15</td>\n",
              "      <td>226</td>\n",
              "      <td>0.000036</td>\n",
              "      <td>4.321398</td>\n",
              "      <td>0.785384</td>\n",
              "      <td>9.873368</td>\n",
              "      <td>7.960195</td>\n",
              "      <td>6.0</td>\n",
              "      <td>23.0</td>\n",
              "      <td>71.0</td>\n",
              "      <td>1.133</td>\n",
              "      <td>6.2</td>\n",
              "      <td>9.0</td>\n",
              "      <td>13.757534</td>\n",
              "      <td>2.789041</td>\n",
              "      <td>1090.0</td>\n",
              "    </tr>\n",
              "    <tr>\n",
              "      <th>711559</th>\n",
              "      <td>711560</td>\n",
              "      <td>334509.77612</td>\n",
              "      <td>2.426053e+06</td>\n",
              "      <td>15</td>\n",
              "      <td>224</td>\n",
              "      <td>0.000123</td>\n",
              "      <td>5.890779</td>\n",
              "      <td>0.785285</td>\n",
              "      <td>9.639392</td>\n",
              "      <td>7.952762</td>\n",
              "      <td>7.0</td>\n",
              "      <td>16.0</td>\n",
              "      <td>77.0</td>\n",
              "      <td>1.104</td>\n",
              "      <td>5.3</td>\n",
              "      <td>8.0</td>\n",
              "      <td>13.757534</td>\n",
              "      <td>2.789041</td>\n",
              "      <td>1090.0</td>\n",
              "    </tr>\n",
              "    <tr>\n",
              "      <th>711560</th>\n",
              "      <td>711561</td>\n",
              "      <td>335009.77612</td>\n",
              "      <td>2.426053e+06</td>\n",
              "      <td>15</td>\n",
              "      <td>226</td>\n",
              "      <td>0.000047</td>\n",
              "      <td>4.712389</td>\n",
              "      <td>0.785365</td>\n",
              "      <td>12.717940</td>\n",
              "      <td>7.962896</td>\n",
              "      <td>8.0</td>\n",
              "      <td>23.0</td>\n",
              "      <td>69.0</td>\n",
              "      <td>1.072</td>\n",
              "      <td>5.2</td>\n",
              "      <td>9.0</td>\n",
              "      <td>13.767123</td>\n",
              "      <td>2.793151</td>\n",
              "      <td>1105.0</td>\n",
              "    </tr>\n",
              "    <tr>\n",
              "      <th>711561</th>\n",
              "      <td>711562</td>\n",
              "      <td>335509.77612</td>\n",
              "      <td>2.426053e+06</td>\n",
              "      <td>15</td>\n",
              "      <td>223</td>\n",
              "      <td>0.000636</td>\n",
              "      <td>4.638317</td>\n",
              "      <td>0.784983</td>\n",
              "      <td>18.239668</td>\n",
              "      <td>7.944999</td>\n",
              "      <td>11.0</td>\n",
              "      <td>19.0</td>\n",
              "      <td>70.0</td>\n",
              "      <td>1.062</td>\n",
              "      <td>5.5</td>\n",
              "      <td>8.0</td>\n",
              "      <td>13.767123</td>\n",
              "      <td>2.793151</td>\n",
              "      <td>1105.0</td>\n",
              "    </tr>\n",
              "  </tbody>\n",
              "</table>\n",
              "<p>711562 rows × 19 columns</p>\n",
              "</div>\n",
              "    <div class=\"colab-df-buttons\">\n",
              "\n",
              "  <div class=\"colab-df-container\">\n",
              "    <button class=\"colab-df-convert\" onclick=\"convertToInteractive('df-5ebff224-bd17-4a22-aff8-b1090480cdaf')\"\n",
              "            title=\"Convert this dataframe to an interactive table.\"\n",
              "            style=\"display:none;\">\n",
              "\n",
              "  <svg xmlns=\"http://www.w3.org/2000/svg\" height=\"24px\" viewBox=\"0 -960 960 960\">\n",
              "    <path d=\"M120-120v-720h720v720H120Zm60-500h600v-160H180v160Zm220 220h160v-160H400v160Zm0 220h160v-160H400v160ZM180-400h160v-160H180v160Zm440 0h160v-160H620v160ZM180-180h160v-160H180v160Zm440 0h160v-160H620v160Z\"/>\n",
              "  </svg>\n",
              "    </button>\n",
              "\n",
              "  <style>\n",
              "    .colab-df-container {\n",
              "      display:flex;\n",
              "      gap: 12px;\n",
              "    }\n",
              "\n",
              "    .colab-df-convert {\n",
              "      background-color: #E8F0FE;\n",
              "      border: none;\n",
              "      border-radius: 50%;\n",
              "      cursor: pointer;\n",
              "      display: none;\n",
              "      fill: #1967D2;\n",
              "      height: 32px;\n",
              "      padding: 0 0 0 0;\n",
              "      width: 32px;\n",
              "    }\n",
              "\n",
              "    .colab-df-convert:hover {\n",
              "      background-color: #E2EBFA;\n",
              "      box-shadow: 0px 1px 2px rgba(60, 64, 67, 0.3), 0px 1px 3px 1px rgba(60, 64, 67, 0.15);\n",
              "      fill: #174EA6;\n",
              "    }\n",
              "\n",
              "    .colab-df-buttons div {\n",
              "      margin-bottom: 4px;\n",
              "    }\n",
              "\n",
              "    [theme=dark] .colab-df-convert {\n",
              "      background-color: #3B4455;\n",
              "      fill: #D2E3FC;\n",
              "    }\n",
              "\n",
              "    [theme=dark] .colab-df-convert:hover {\n",
              "      background-color: #434B5C;\n",
              "      box-shadow: 0px 1px 3px 1px rgba(0, 0, 0, 0.15);\n",
              "      filter: drop-shadow(0px 1px 2px rgba(0, 0, 0, 0.3));\n",
              "      fill: #FFFFFF;\n",
              "    }\n",
              "  </style>\n",
              "\n",
              "    <script>\n",
              "      const buttonEl =\n",
              "        document.querySelector('#df-5ebff224-bd17-4a22-aff8-b1090480cdaf button.colab-df-convert');\n",
              "      buttonEl.style.display =\n",
              "        google.colab.kernel.accessAllowed ? 'block' : 'none';\n",
              "\n",
              "      async function convertToInteractive(key) {\n",
              "        const element = document.querySelector('#df-5ebff224-bd17-4a22-aff8-b1090480cdaf');\n",
              "        const dataTable =\n",
              "          await google.colab.kernel.invokeFunction('convertToInteractive',\n",
              "                                                    [key], {});\n",
              "        if (!dataTable) return;\n",
              "\n",
              "        const docLinkHtml = 'Like what you see? Visit the ' +\n",
              "          '<a target=\"_blank\" href=https://colab.research.google.com/notebooks/data_table.ipynb>data table notebook</a>'\n",
              "          + ' to learn more about interactive tables.';\n",
              "        element.innerHTML = '';\n",
              "        dataTable['output_type'] = 'display_data';\n",
              "        await google.colab.output.renderOutput(dataTable, element);\n",
              "        const docLink = document.createElement('div');\n",
              "        docLink.innerHTML = docLinkHtml;\n",
              "        element.appendChild(docLink);\n",
              "      }\n",
              "    </script>\n",
              "  </div>\n",
              "\n",
              "\n",
              "<div id=\"df-855b09c4-7c8a-4371-a820-7f176c7aafd2\">\n",
              "  <button class=\"colab-df-quickchart\" onclick=\"quickchart('df-855b09c4-7c8a-4371-a820-7f176c7aafd2')\"\n",
              "            title=\"Suggest charts\"\n",
              "            style=\"display:none;\">\n",
              "\n",
              "<svg xmlns=\"http://www.w3.org/2000/svg\" height=\"24px\"viewBox=\"0 0 24 24\"\n",
              "     width=\"24px\">\n",
              "    <g>\n",
              "        <path d=\"M19 3H5c-1.1 0-2 .9-2 2v14c0 1.1.9 2 2 2h14c1.1 0 2-.9 2-2V5c0-1.1-.9-2-2-2zM9 17H7v-7h2v7zm4 0h-2V7h2v10zm4 0h-2v-4h2v4z\"/>\n",
              "    </g>\n",
              "</svg>\n",
              "  </button>\n",
              "\n",
              "<style>\n",
              "  .colab-df-quickchart {\n",
              "      --bg-color: #E8F0FE;\n",
              "      --fill-color: #1967D2;\n",
              "      --hover-bg-color: #E2EBFA;\n",
              "      --hover-fill-color: #174EA6;\n",
              "      --disabled-fill-color: #AAA;\n",
              "      --disabled-bg-color: #DDD;\n",
              "  }\n",
              "\n",
              "  [theme=dark] .colab-df-quickchart {\n",
              "      --bg-color: #3B4455;\n",
              "      --fill-color: #D2E3FC;\n",
              "      --hover-bg-color: #434B5C;\n",
              "      --hover-fill-color: #FFFFFF;\n",
              "      --disabled-bg-color: #3B4455;\n",
              "      --disabled-fill-color: #666;\n",
              "  }\n",
              "\n",
              "  .colab-df-quickchart {\n",
              "    background-color: var(--bg-color);\n",
              "    border: none;\n",
              "    border-radius: 50%;\n",
              "    cursor: pointer;\n",
              "    display: none;\n",
              "    fill: var(--fill-color);\n",
              "    height: 32px;\n",
              "    padding: 0;\n",
              "    width: 32px;\n",
              "  }\n",
              "\n",
              "  .colab-df-quickchart:hover {\n",
              "    background-color: var(--hover-bg-color);\n",
              "    box-shadow: 0 1px 2px rgba(60, 64, 67, 0.3), 0 1px 3px 1px rgba(60, 64, 67, 0.15);\n",
              "    fill: var(--button-hover-fill-color);\n",
              "  }\n",
              "\n",
              "  .colab-df-quickchart-complete:disabled,\n",
              "  .colab-df-quickchart-complete:disabled:hover {\n",
              "    background-color: var(--disabled-bg-color);\n",
              "    fill: var(--disabled-fill-color);\n",
              "    box-shadow: none;\n",
              "  }\n",
              "\n",
              "  .colab-df-spinner {\n",
              "    border: 2px solid var(--fill-color);\n",
              "    border-color: transparent;\n",
              "    border-bottom-color: var(--fill-color);\n",
              "    animation:\n",
              "      spin 1s steps(1) infinite;\n",
              "  }\n",
              "\n",
              "  @keyframes spin {\n",
              "    0% {\n",
              "      border-color: transparent;\n",
              "      border-bottom-color: var(--fill-color);\n",
              "      border-left-color: var(--fill-color);\n",
              "    }\n",
              "    20% {\n",
              "      border-color: transparent;\n",
              "      border-left-color: var(--fill-color);\n",
              "      border-top-color: var(--fill-color);\n",
              "    }\n",
              "    30% {\n",
              "      border-color: transparent;\n",
              "      border-left-color: var(--fill-color);\n",
              "      border-top-color: var(--fill-color);\n",
              "      border-right-color: var(--fill-color);\n",
              "    }\n",
              "    40% {\n",
              "      border-color: transparent;\n",
              "      border-right-color: var(--fill-color);\n",
              "      border-top-color: var(--fill-color);\n",
              "    }\n",
              "    60% {\n",
              "      border-color: transparent;\n",
              "      border-right-color: var(--fill-color);\n",
              "    }\n",
              "    80% {\n",
              "      border-color: transparent;\n",
              "      border-right-color: var(--fill-color);\n",
              "      border-bottom-color: var(--fill-color);\n",
              "    }\n",
              "    90% {\n",
              "      border-color: transparent;\n",
              "      border-bottom-color: var(--fill-color);\n",
              "    }\n",
              "  }\n",
              "</style>\n",
              "\n",
              "  <script>\n",
              "    async function quickchart(key) {\n",
              "      const quickchartButtonEl =\n",
              "        document.querySelector('#' + key + ' button');\n",
              "      quickchartButtonEl.disabled = true;  // To prevent multiple clicks.\n",
              "      quickchartButtonEl.classList.add('colab-df-spinner');\n",
              "      try {\n",
              "        const charts = await google.colab.kernel.invokeFunction(\n",
              "            'suggestCharts', [key], {});\n",
              "      } catch (error) {\n",
              "        console.error('Error during call to suggestCharts:', error);\n",
              "      }\n",
              "      quickchartButtonEl.classList.remove('colab-df-spinner');\n",
              "      quickchartButtonEl.classList.add('colab-df-quickchart-complete');\n",
              "    }\n",
              "    (() => {\n",
              "      let quickchartButtonEl =\n",
              "        document.querySelector('#df-855b09c4-7c8a-4371-a820-7f176c7aafd2 button');\n",
              "      quickchartButtonEl.style.display =\n",
              "        google.colab.kernel.accessAllowed ? 'block' : 'none';\n",
              "    })();\n",
              "  </script>\n",
              "</div>\n",
              "    </div>\n",
              "  </div>\n"
            ],
            "application/vnd.google.colaboratory.intrinsic+json": {
              "type": "dataframe",
              "variable_name": "grid_20021"
            }
          },
          "metadata": {},
          "execution_count": 23
        }
      ]
    },
    {
      "cell_type": "code",
      "source": [
        "grid_20021.columns"
      ],
      "metadata": {
        "colab": {
          "base_uri": "https://localhost:8080/"
        },
        "id": "aGu2GHaIOiCw",
        "outputId": "f383c296-df81-485b-8876-a88c74eed58f"
      },
      "execution_count": 21,
      "outputs": [
        {
          "output_type": "execute_result",
          "data": {
            "text/plain": [
              "Index(['Column', 'POINT_X', 'POINT_Y', 'Depth', 'dem', 'slope', 'aspect',\n",
              "       'hillshade', 'twi', 'mrvbf', 'clay', 'silt', 'sand', 'BD', 'pH', 'lc',\n",
              "       'tmax', 'tmin', 'prcp'],\n",
              "      dtype='object')"
            ]
          },
          "metadata": {},
          "execution_count": 21
        }
      ]
    },
    {
      "cell_type": "code",
      "source": [
        "new=rf_model.predict(grid_20021[features])\n",
        "new"
      ],
      "metadata": {
        "colab": {
          "base_uri": "https://localhost:8080/"
        },
        "id": "NUVcqkvmOLXn",
        "outputId": "d1264dc0-4274-497d-e050-a025aa8ef963"
      },
      "execution_count": 22,
      "outputs": [
        {
          "output_type": "execute_result",
          "data": {
            "text/plain": [
              "array([5.6262144 , 4.71009272, 4.5481641 , ..., 1.54036715, 2.36567833,\n",
              "       2.8841848 ])"
            ]
          },
          "metadata": {},
          "execution_count": 22
        }
      ]
    },
    {
      "cell_type": "code",
      "source": [
        "grid_20021[features][:1]"
      ],
      "metadata": {
        "colab": {
          "base_uri": "https://localhost:8080/",
          "height": 100
        },
        "id": "Oi4cnaZCSR09",
        "outputId": "f26dcacf-8e11-4f41-c706-93ad805782e6"
      },
      "execution_count": 29,
      "outputs": [
        {
          "output_type": "execute_result",
          "data": {
            "text/plain": [
              "   Depth      tmax      tmin   prcp   lc  clay  silt  sand  dem     slope  \\\n",
              "0      5  10.70274  0.556164  753.0  9.0  10.0  35.0  55.0  189  0.000057   \n",
              "\n",
              "     aspect  hillshade        twi     mrvbf  \n",
              "0  6.283185   0.785358  11.223489  2.568818  "
            ],
            "text/html": [
              "\n",
              "  <div id=\"df-f4a106ca-a972-4ccd-8e6d-57d00bc1d4e5\" class=\"colab-df-container\">\n",
              "    <div>\n",
              "<style scoped>\n",
              "    .dataframe tbody tr th:only-of-type {\n",
              "        vertical-align: middle;\n",
              "    }\n",
              "\n",
              "    .dataframe tbody tr th {\n",
              "        vertical-align: top;\n",
              "    }\n",
              "\n",
              "    .dataframe thead th {\n",
              "        text-align: right;\n",
              "    }\n",
              "</style>\n",
              "<table border=\"1\" class=\"dataframe\">\n",
              "  <thead>\n",
              "    <tr style=\"text-align: right;\">\n",
              "      <th></th>\n",
              "      <th>Depth</th>\n",
              "      <th>tmax</th>\n",
              "      <th>tmin</th>\n",
              "      <th>prcp</th>\n",
              "      <th>lc</th>\n",
              "      <th>clay</th>\n",
              "      <th>silt</th>\n",
              "      <th>sand</th>\n",
              "      <th>dem</th>\n",
              "      <th>slope</th>\n",
              "      <th>aspect</th>\n",
              "      <th>hillshade</th>\n",
              "      <th>twi</th>\n",
              "      <th>mrvbf</th>\n",
              "    </tr>\n",
              "  </thead>\n",
              "  <tbody>\n",
              "    <tr>\n",
              "      <th>0</th>\n",
              "      <td>5</td>\n",
              "      <td>10.70274</td>\n",
              "      <td>0.556164</td>\n",
              "      <td>753.0</td>\n",
              "      <td>9.0</td>\n",
              "      <td>10.0</td>\n",
              "      <td>35.0</td>\n",
              "      <td>55.0</td>\n",
              "      <td>189</td>\n",
              "      <td>0.000057</td>\n",
              "      <td>6.283185</td>\n",
              "      <td>0.785358</td>\n",
              "      <td>11.223489</td>\n",
              "      <td>2.568818</td>\n",
              "    </tr>\n",
              "  </tbody>\n",
              "</table>\n",
              "</div>\n",
              "    <div class=\"colab-df-buttons\">\n",
              "\n",
              "  <div class=\"colab-df-container\">\n",
              "    <button class=\"colab-df-convert\" onclick=\"convertToInteractive('df-f4a106ca-a972-4ccd-8e6d-57d00bc1d4e5')\"\n",
              "            title=\"Convert this dataframe to an interactive table.\"\n",
              "            style=\"display:none;\">\n",
              "\n",
              "  <svg xmlns=\"http://www.w3.org/2000/svg\" height=\"24px\" viewBox=\"0 -960 960 960\">\n",
              "    <path d=\"M120-120v-720h720v720H120Zm60-500h600v-160H180v160Zm220 220h160v-160H400v160Zm0 220h160v-160H400v160ZM180-400h160v-160H180v160Zm440 0h160v-160H620v160ZM180-180h160v-160H180v160Zm440 0h160v-160H620v160Z\"/>\n",
              "  </svg>\n",
              "    </button>\n",
              "\n",
              "  <style>\n",
              "    .colab-df-container {\n",
              "      display:flex;\n",
              "      gap: 12px;\n",
              "    }\n",
              "\n",
              "    .colab-df-convert {\n",
              "      background-color: #E8F0FE;\n",
              "      border: none;\n",
              "      border-radius: 50%;\n",
              "      cursor: pointer;\n",
              "      display: none;\n",
              "      fill: #1967D2;\n",
              "      height: 32px;\n",
              "      padding: 0 0 0 0;\n",
              "      width: 32px;\n",
              "    }\n",
              "\n",
              "    .colab-df-convert:hover {\n",
              "      background-color: #E2EBFA;\n",
              "      box-shadow: 0px 1px 2px rgba(60, 64, 67, 0.3), 0px 1px 3px 1px rgba(60, 64, 67, 0.15);\n",
              "      fill: #174EA6;\n",
              "    }\n",
              "\n",
              "    .colab-df-buttons div {\n",
              "      margin-bottom: 4px;\n",
              "    }\n",
              "\n",
              "    [theme=dark] .colab-df-convert {\n",
              "      background-color: #3B4455;\n",
              "      fill: #D2E3FC;\n",
              "    }\n",
              "\n",
              "    [theme=dark] .colab-df-convert:hover {\n",
              "      background-color: #434B5C;\n",
              "      box-shadow: 0px 1px 3px 1px rgba(0, 0, 0, 0.15);\n",
              "      filter: drop-shadow(0px 1px 2px rgba(0, 0, 0, 0.3));\n",
              "      fill: #FFFFFF;\n",
              "    }\n",
              "  </style>\n",
              "\n",
              "    <script>\n",
              "      const buttonEl =\n",
              "        document.querySelector('#df-f4a106ca-a972-4ccd-8e6d-57d00bc1d4e5 button.colab-df-convert');\n",
              "      buttonEl.style.display =\n",
              "        google.colab.kernel.accessAllowed ? 'block' : 'none';\n",
              "\n",
              "      async function convertToInteractive(key) {\n",
              "        const element = document.querySelector('#df-f4a106ca-a972-4ccd-8e6d-57d00bc1d4e5');\n",
              "        const dataTable =\n",
              "          await google.colab.kernel.invokeFunction('convertToInteractive',\n",
              "                                                    [key], {});\n",
              "        if (!dataTable) return;\n",
              "\n",
              "        const docLinkHtml = 'Like what you see? Visit the ' +\n",
              "          '<a target=\"_blank\" href=https://colab.research.google.com/notebooks/data_table.ipynb>data table notebook</a>'\n",
              "          + ' to learn more about interactive tables.';\n",
              "        element.innerHTML = '';\n",
              "        dataTable['output_type'] = 'display_data';\n",
              "        await google.colab.output.renderOutput(dataTable, element);\n",
              "        const docLink = document.createElement('div');\n",
              "        docLink.innerHTML = docLinkHtml;\n",
              "        element.appendChild(docLink);\n",
              "      }\n",
              "    </script>\n",
              "  </div>\n",
              "\n",
              "    </div>\n",
              "  </div>\n"
            ],
            "application/vnd.google.colaboratory.intrinsic+json": {
              "type": "dataframe",
              "summary": "{\n  \"name\": \"grid_20021[features][:1]\",\n  \"rows\": 1,\n  \"fields\": [\n    {\n      \"column\": \"Depth\",\n      \"properties\": {\n        \"dtype\": \"number\",\n        \"std\": null,\n        \"min\": 5,\n        \"max\": 5,\n        \"num_unique_values\": 1,\n        \"samples\": [\n          5\n        ],\n        \"semantic_type\": \"\",\n        \"description\": \"\"\n      }\n    },\n    {\n      \"column\": \"tmax\",\n      \"properties\": {\n        \"dtype\": \"category\",\n        \"num_unique_values\": 1,\n        \"samples\": [\n          10.702739716\n        ],\n        \"semantic_type\": \"\",\n        \"description\": \"\"\n      }\n    },\n    {\n      \"column\": \"tmin\",\n      \"properties\": {\n        \"dtype\": \"number\",\n        \"std\": null,\n        \"min\": 0.5561643839,\n        \"max\": 0.5561643839,\n        \"num_unique_values\": 1,\n        \"samples\": [\n          0.5561643839\n        ],\n        \"semantic_type\": \"\",\n        \"description\": \"\"\n      }\n    },\n    {\n      \"column\": \"prcp\",\n      \"properties\": {\n        \"dtype\": \"number\",\n        \"std\": null,\n        \"min\": 753.0,\n        \"max\": 753.0,\n        \"num_unique_values\": 1,\n        \"samples\": [\n          753.0\n        ],\n        \"semantic_type\": \"\",\n        \"description\": \"\"\n      }\n    },\n    {\n      \"column\": \"lc\",\n      \"properties\": {\n        \"dtype\": \"number\",\n        \"std\": null,\n        \"min\": 9.0,\n        \"max\": 9.0,\n        \"num_unique_values\": 1,\n        \"samples\": [\n          9.0\n        ],\n        \"semantic_type\": \"\",\n        \"description\": \"\"\n      }\n    },\n    {\n      \"column\": \"clay\",\n      \"properties\": {\n        \"dtype\": \"number\",\n        \"std\": null,\n        \"min\": 10.0,\n        \"max\": 10.0,\n        \"num_unique_values\": 1,\n        \"samples\": [\n          10.0\n        ],\n        \"semantic_type\": \"\",\n        \"description\": \"\"\n      }\n    },\n    {\n      \"column\": \"silt\",\n      \"properties\": {\n        \"dtype\": \"number\",\n        \"std\": null,\n        \"min\": 35.0,\n        \"max\": 35.0,\n        \"num_unique_values\": 1,\n        \"samples\": [\n          35.0\n        ],\n        \"semantic_type\": \"\",\n        \"description\": \"\"\n      }\n    },\n    {\n      \"column\": \"sand\",\n      \"properties\": {\n        \"dtype\": \"number\",\n        \"std\": null,\n        \"min\": 55.0,\n        \"max\": 55.0,\n        \"num_unique_values\": 1,\n        \"samples\": [\n          55.0\n        ],\n        \"semantic_type\": \"\",\n        \"description\": \"\"\n      }\n    },\n    {\n      \"column\": \"dem\",\n      \"properties\": {\n        \"dtype\": \"number\",\n        \"std\": null,\n        \"min\": 189,\n        \"max\": 189,\n        \"num_unique_values\": 1,\n        \"samples\": [\n          189\n        ],\n        \"semantic_type\": \"\",\n        \"description\": \"\"\n      }\n    },\n    {\n      \"column\": \"slope\",\n      \"properties\": {\n        \"dtype\": \"number\",\n        \"std\": null,\n        \"min\": 5.69661e-05,\n        \"max\": 5.69661e-05,\n        \"num_unique_values\": 1,\n        \"samples\": [\n          5.69661e-05\n        ],\n        \"semantic_type\": \"\",\n        \"description\": \"\"\n      }\n    },\n    {\n      \"column\": \"aspect\",\n      \"properties\": {\n        \"dtype\": \"number\",\n        \"std\": null,\n        \"min\": 6.283185482,\n        \"max\": 6.283185482,\n        \"num_unique_values\": 1,\n        \"samples\": [\n          6.283185482\n        ],\n        \"semantic_type\": \"\",\n        \"description\": \"\"\n      }\n    },\n    {\n      \"column\": \"hillshade\",\n      \"properties\": {\n        \"dtype\": \"number\",\n        \"std\": null,\n        \"min\": 0.7853578925,\n        \"max\": 0.7853578925,\n        \"num_unique_values\": 1,\n        \"samples\": [\n          0.7853578925\n        ],\n        \"semantic_type\": \"\",\n        \"description\": \"\"\n      }\n    },\n    {\n      \"column\": \"twi\",\n      \"properties\": {\n        \"dtype\": \"number\",\n        \"std\": null,\n        \"min\": 11.223488808,\n        \"max\": 11.223488808,\n        \"num_unique_values\": 1,\n        \"samples\": [\n          11.223488808\n        ],\n        \"semantic_type\": \"\",\n        \"description\": \"\"\n      }\n    },\n    {\n      \"column\": \"mrvbf\",\n      \"properties\": {\n        \"dtype\": \"number\",\n        \"std\": null,\n        \"min\": 2.5688176155,\n        \"max\": 2.5688176155,\n        \"num_unique_values\": 1,\n        \"samples\": [\n          2.5688176155\n        ],\n        \"semantic_type\": \"\",\n        \"description\": \"\"\n      }\n    }\n  ]\n}"
            }
          },
          "metadata": {},
          "execution_count": 29
        }
      ]
    },
    {
      "cell_type": "code",
      "source": [
        "exmp = {'Depth': 5,\n",
        "                                                     'tmax': 10.702739716,\n",
        "                                                     'tmin': 0.5561643839,\n",
        "                                                     'prcp': 753.0,\n",
        "                                                     'lc': 9.0,\n",
        "                                                     'clay': 10.0,\n",
        "                                                     'silt': 35.0,\n",
        "                                                     'sand': 55.0,\n",
        "                                                     'dem': 189,\n",
        "                                                     'slope': 5.69661e-05,\n",
        "                                                     'aspect': 6.283185482,\n",
        "                                                     'hillshade': 0.7853578925,\n",
        "                                                     'twi': 11.223488808,\n",
        "                                                     'mrvbf': 2.5688176155}"
      ],
      "metadata": {
        "id": "j1BxIAPOTOGh"
      },
      "execution_count": null,
      "outputs": []
    },
    {
      "cell_type": "code",
      "source": [
        "\n",
        "#exmp\n",
        "features = ['Depth', 'tmax', 'tmin', 'prcp', 'lc', 'clay', 'silt', 'sand', 'dem', 'slope', 'aspect', 'hillshade', 'twi', 'mrvbf']\n",
        "dictionary = {key: [value] for key, value in class_model.dict().items()}\n",
        "df = DataFrame(dictionary)\n",
        "df = df[features]\n",
        "df = df.dropna()"
      ],
      "metadata": {
        "colab": {
          "base_uri": "https://localhost:8080/"
        },
        "id": "5gajO-DETJmj",
        "outputId": "ba0f46f7-de91-4033-850d-ebdd843ed258"
      },
      "execution_count": 32,
      "outputs": [
        {
          "output_type": "execute_result",
          "data": {
            "text/plain": [
              "5.626214404736811"
            ]
          },
          "metadata": {},
          "execution_count": 32
        }
      ]
    },
    {
      "cell_type": "code",
      "source": [
        "selected_features = grid_20021[features].iloc[:1].to_dict(orient='records')[0]\n",
        "selected_features"
      ],
      "metadata": {
        "colab": {
          "base_uri": "https://localhost:8080/"
        },
        "id": "Hjs-1X5TScmW",
        "outputId": "6c7d536c-f76d-4095-8feb-4044134446b2"
      },
      "execution_count": 30,
      "outputs": [
        {
          "output_type": "execute_result",
          "data": {
            "text/plain": [
              "{'Depth': 5,\n",
              " 'tmax': 10.702739716,\n",
              " 'tmin': 0.5561643839,\n",
              " 'prcp': 753.0,\n",
              " 'lc': 9.0,\n",
              " 'clay': 10.0,\n",
              " 'silt': 35.0,\n",
              " 'sand': 55.0,\n",
              " 'dem': 189,\n",
              " 'slope': 5.69661e-05,\n",
              " 'aspect': 6.283185482,\n",
              " 'hillshade': 0.7853578925,\n",
              " 'twi': 11.223488808,\n",
              " 'mrvbf': 2.5688176155}"
            ]
          },
          "metadata": {},
          "execution_count": 30
        }
      ]
    },
    {
      "cell_type": "code",
      "source": [
        "grid_20021[features].dtypes"
      ],
      "metadata": {
        "colab": {
          "base_uri": "https://localhost:8080/"
        },
        "id": "qNnBXxczObjH",
        "outputId": "262c370a-78a4-4659-e923-4517c6bc11c2"
      },
      "execution_count": 25,
      "outputs": [
        {
          "output_type": "execute_result",
          "data": {
            "text/plain": [
              "Depth           int64\n",
              "tmax         category\n",
              "tmin          float64\n",
              "prcp          float64\n",
              "lc            float64\n",
              "clay          float64\n",
              "silt          float64\n",
              "sand          float64\n",
              "dem             int64\n",
              "slope         float64\n",
              "aspect        float64\n",
              "hillshade     float64\n",
              "twi           float64\n",
              "mrvbf         float64\n",
              "dtype: object"
            ]
          },
          "metadata": {},
          "execution_count": 25
        }
      ]
    },
    {
      "cell_type": "code",
      "source": [],
      "metadata": {
        "id": "QBlGStwtPbeh"
      },
      "execution_count": null,
      "outputs": []
    }
  ]
}