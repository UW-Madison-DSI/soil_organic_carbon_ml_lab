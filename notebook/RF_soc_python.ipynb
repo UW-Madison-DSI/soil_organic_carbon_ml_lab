{
  "nbformat": 4,
  "nbformat_minor": 0,
  "metadata": {
    "colab": {
      "provenance": []
    },
    "kernelspec": {
      "name": "python3",
      "display_name": "Python 3"
    },
    "language_info": {
      "name": "python"
    }
  },
  "cells": [
    {
      "cell_type": "code",
      "execution_count": 85,
      "metadata": {
        "id": "YKU7mqVffduH"
      },
      "outputs": [],
      "source": [
        "# Pandas is used for data manipulation\n",
        "import pandas as pd\n"
      ]
    },
    {
      "cell_type": "code",
      "source": [
        "from google.colab import drive\n",
        "drive.mount('/content/drive')\n"
      ],
      "metadata": {
        "colab": {
          "base_uri": "https://localhost:8080/"
        },
        "id": "K5aru8BcssC2",
        "outputId": "c9b45549-ed87-4fa8-9d19-d5f3625050e7"
      },
      "execution_count": 86,
      "outputs": [
        {
          "output_type": "stream",
          "name": "stdout",
          "text": [
            "Drive already mounted at /content/drive; to attempt to forcibly remount, call drive.mount(\"/content/drive\", force_remount=True).\n"
          ]
        }
      ]
    },
    {
      "cell_type": "code",
      "source": [
        "import pandas as pd\n",
        "import numpy as np\n",
        "\n",
        "# Read the data in CSV format\n",
        "soil_data = pd.read_csv('/content/drive/MyDrive/JingyiHuang/soil.txt', header=0, sep=\",\")\n",
        "\n",
        "soil_df = soil_data.dropna()\n",
        "\n",
        "\n",
        "# Convert column 16 (now column 12 after dropping columns) to categorical type\n",
        "soil_df.iloc[:, 12] = soil_df.iloc[:, 12].astype('category')\n",
        "\n",
        "# Number of data\n",
        "nd = soil_df.shape[0]\n",
        "\n",
        "# Split Calibration: 75% and Validation 25%\n",
        "np.random.seed(111)  # Set a random seed\n",
        "ic = np.random.choice(nd, size=round(nd * 0.75), replace=False)  # Generate a random permutation of data\n",
        "\n",
        "# Form the calibration set\n",
        "cali = soil_df.iloc[ic, :]\n",
        "\n",
        "# Form the validation set by selecting the indices not in the calibration set\n",
        "vali_indices = soil_df.index.difference(ic)\n",
        "vali = soil_df.loc[vali_indices]\n",
        "\n",
        "# Print the number of samples in each set to verify\n",
        "print(f'Number of samples in calibration set: {cali.shape[0]}')\n",
        "print(f'Number of samples in validation set: {vali.shape[0]}')\n"
      ],
      "metadata": {
        "colab": {
          "base_uri": "https://localhost:8080/"
        },
        "id": "kY3mW8DXMGmd",
        "outputId": "7aef1279-c5cd-491a-d95a-67d7f0215061"
      },
      "execution_count": 87,
      "outputs": [
        {
          "output_type": "stream",
          "name": "stdout",
          "text": [
            "Number of samples in calibration set: 2206\n",
            "Number of samples in validation set: 876\n"
          ]
        }
      ]
    },
    {
      "cell_type": "code",
      "source": [
        "from sklearn.ensemble import RandomForestRegressor\n",
        "from sklearn.metrics import r2_score\n",
        "\n",
        "# Define the features and target variable\n",
        "features = ['Depth', 'tmax', 'tmin', 'prcp', 'lc', 'clay', 'silt', 'sand', 'dem', 'slope', 'aspect', 'hillshade', 'twi', 'mrvbf']\n",
        "target = 'SOC'\n",
        "\n",
        "# Extract features and target variable for calibration set\n",
        "X_cali = cali[features]\n",
        "y_cali = cali[target]\n",
        "\n",
        "# Train the Random Forest model\n",
        "rf_model = RandomForestRegressor(n_estimators=500, max_features=10, random_state=42)\n",
        "rf_model.fit(X_cali, y_cali)\n",
        "\n",
        "# Predict on the calibration data\n",
        "rf_predict = rf_model.predict(X_cali)\n",
        "\n",
        "# Calculate goodness of fit\n",
        "gof_rf_predict = r2_score(y_cali, rf_predict)\n",
        "\n",
        "# Calibration\n",
        "print(\"Goodness of fit:\", gof_rf_predict)\n"
      ],
      "metadata": {
        "colab": {
          "base_uri": "https://localhost:8080/"
        },
        "id": "huJUf_6hMkcW",
        "outputId": "f247d015-8d62-4542-cdc2-8ba1ee139d62"
      },
      "execution_count": 88,
      "outputs": [
        {
          "output_type": "stream",
          "name": "stdout",
          "text": [
            "Goodness of fit: 0.9222235623515054\n"
          ]
        }
      ]
    },
    {
      "cell_type": "code",
      "source": [
        "X_cali.columns"
      ],
      "metadata": {
        "colab": {
          "base_uri": "https://localhost:8080/"
        },
        "id": "_wcBSabDOt7d",
        "outputId": "4f20820f-d9d7-40ca-c603-f42a9cdb7d4d"
      },
      "execution_count": 89,
      "outputs": [
        {
          "output_type": "execute_result",
          "data": {
            "text/plain": [
              "Index(['Depth', 'tmax', 'tmin', 'prcp', 'lc', 'clay', 'silt', 'sand', 'dem',\n",
              "       'slope', 'aspect', 'hillshade', 'twi', 'mrvbf'],\n",
              "      dtype='object')"
            ]
          },
          "metadata": {},
          "execution_count": 89
        }
      ]
    },
    {
      "cell_type": "code",
      "source": [
        "from joblib import dump\n",
        "\n",
        "# Saving the model\n",
        "dump(rf_model, '/content/drive/MyDrive/JingyiHuang/rf_model.joblib')\n"
      ],
      "metadata": {
        "colab": {
          "base_uri": "https://localhost:8080/"
        },
        "id": "kF0moxeDNFda",
        "outputId": "b0eee590-5c71-4ae8-ee2f-b4ad20298412"
      },
      "execution_count": 90,
      "outputs": [
        {
          "output_type": "execute_result",
          "data": {
            "text/plain": [
              "['/content/drive/MyDrive/JingyiHuang/rf_model.joblib']"
            ]
          },
          "metadata": {},
          "execution_count": 90
        }
      ]
    },
    {
      "cell_type": "code",
      "source": [
        "#This is my model\n",
        "joblib.dump(rf_model, '/content/drive/MyDrive/JingyiHuang/rf_model.pkl')"
      ],
      "metadata": {
        "colab": {
          "base_uri": "https://localhost:8080/"
        },
        "id": "xYs229RFKrRC",
        "outputId": "13fa9140-12ac-41f8-daf6-c622eabf864c"
      },
      "execution_count": 92,
      "outputs": [
        {
          "output_type": "execute_result",
          "data": {
            "text/plain": [
              "['/content/drive/MyDrive/JingyiHuang/rf_model.pkl']"
            ]
          },
          "metadata": {},
          "execution_count": 92
        }
      ]
    },
    {
      "cell_type": "code",
      "source": [
        "from joblib import load\n",
        "\n",
        "# Calling the model to run an example\n",
        "rf_model = load('/content/drive/MyDrive/JingyiHuang/rf_model.pkl')\n",
        "\n",
        "predictions = rf_model.predict(X_cali)  # Por ejemplo, X_test es tu conjunto de datos de prueba\n"
      ],
      "metadata": {
        "id": "GkcEHIxYNY3U"
      },
      "execution_count": 93,
      "outputs": []
    },
    {
      "cell_type": "code",
      "source": [
        "predictions"
      ],
      "metadata": {
        "colab": {
          "base_uri": "https://localhost:8080/"
        },
        "id": "oCWvXTpXNfIg",
        "outputId": "ea377e04-5deb-44e5-93f3-846a38cd63ba"
      },
      "execution_count": 94,
      "outputs": [
        {
          "output_type": "execute_result",
          "data": {
            "text/plain": [
              "array([0.2800792 , 0.42556075, 2.37493076, ..., 1.78812623, 1.88244104,\n",
              "       0.85083708])"
            ]
          },
          "metadata": {},
          "execution_count": 94
        }
      ]
    },
    {
      "cell_type": "markdown",
      "source": [
        "### Testing the pickle and API"
      ],
      "metadata": {
        "id": "CY89yNv6DUzM"
      }
    },
    {
      "cell_type": "code",
      "source": [
        "example1 = {\"Depth\": 5,\n",
        "            \"tmax\": 10.702739716,\n",
        "            \"tmin\": 0.5561643839,\n",
        "            \"prcp\": 753.0,\n",
        "            \"lc\": 9.0,\n",
        "            \"clay\": 10.0,\n",
        "            \"silt\": 35.0,\n",
        "            \"sand\": 55.0,\n",
        "            \"dem\": 189,\n",
        "            \"slope\": 5.69661e-05,\n",
        "            \"aspect\": 6.283185482,\n",
        "            \"hillshade\": 0.7853578925,\n",
        "            \"twi\": 11.223488808,\n",
        "            \"mrvbf\": 2.5688176155\n",
        "      }"
      ],
      "metadata": {
        "id": "WEPQUye_HZgS"
      },
      "execution_count": 18,
      "outputs": []
    },
    {
      "cell_type": "code",
      "source": [
        "## TEsting the pickle model\n",
        "\n",
        "features = ['Depth', 'tmax', 'tmin', 'prcp', 'lc', 'clay', 'silt', 'sand', 'dem', 'slope', 'aspect', 'hillshade', 'twi', 'mrvbf']\n",
        "#dictionary = {key: [value] for key, value in class_model.dict().items()}\n",
        "df = pd.DataFrame([example])\n",
        "\n",
        "print(df)\n",
        "\n",
        "new=rf_model.predict(df[features])[0]\n",
        "print(new)"
      ],
      "metadata": {
        "colab": {
          "base_uri": "https://localhost:8080/"
        },
        "id": "1T83-ClEHZjA",
        "outputId": "0ac8175f-86e8-4c4e-de69-f682abd11033"
      },
      "execution_count": 104,
      "outputs": [
        {
          "output_type": "stream",
          "name": "stdout",
          "text": [
            "   Depth      tmax      tmin   prcp   lc  clay  silt  sand  dem     slope  \\\n",
            "0      5  10.70274  0.556164  753.0  9.0  10.0  35.0  55.0  189  0.000057   \n",
            "\n",
            "     aspect  hillshade        twi     mrvbf  \n",
            "0  6.283185   0.785358  11.223489  2.568818  \n",
            "5.626214404736811\n"
          ]
        }
      ]
    },
    {
      "cell_type": "code",
      "source": [
        "import requests\n",
        "import json\n",
        "\n",
        "def build_url(base, path):\n",
        "    return f\"{base}{path}\"\n"
      ],
      "metadata": {
        "id": "1q4Jo6OHGmqo"
      },
      "execution_count": 25,
      "outputs": []
    },
    {
      "cell_type": "code",
      "source": [
        "def api_request(data):\n",
        "  data_json = json.dumps(data)\n",
        "\n",
        "  headers = {\n",
        "    \"Authorization\": f\"Key {connect_api_key}\",\n",
        "    \"accept\": \"application/json\",\n",
        "    \"Content-Type\": \"application/json\"\n",
        "  }\n",
        "\n",
        "  # Maybe customize this url\n",
        "  url_path = \"/content/37ea4362-968a-4899-bc03-244f4d92d826/v1/prediction\"\n",
        "  request_url = build_url(connect_server, url_path)\n",
        "\n",
        "  # Make the POST request with verification disabled\n",
        "  response = requests.post(request_url, headers=headers, data=data_json, verify=False)\n",
        "\n",
        "  # Response\n",
        "  print(f\"Status Code: {response.status_code}\")\n",
        "  try:\n",
        "      response_json = response.json()\n",
        "      print(response_json)\n",
        "  except json.JSONDecodeError:\n",
        "      print(\"Response content is not in JSON format.\")\n",
        "      print(response.text)"
      ],
      "metadata": {
        "id": "AY33_TgdG2B5"
      },
      "execution_count": 26,
      "outputs": []
    },
    {
      "cell_type": "code",
      "source": [
        "# Define the JSON payload\n",
        "api_request(example1)\n"
      ],
      "metadata": {
        "colab": {
          "base_uri": "https://localhost:8080/"
        },
        "id": "GrsK3hbg-9P0",
        "outputId": "19c75440-c8eb-4896-8b6b-cb266527c151"
      },
      "execution_count": 27,
      "outputs": [
        {
          "output_type": "stream",
          "name": "stdout",
          "text": [
            "Status Code: 200\n",
            "{'soil_organic_carbon_stock': 5.626214404736811}\n"
          ]
        }
      ]
    },
    {
      "cell_type": "code",
      "source": [
        "data = {\n",
        "      \"Depth\": 60,\n",
        "      \"tmax\": 12.42,\n",
        "      \"tmin\": 0.45,\n",
        "      \"prcp\": 954,\n",
        "      \"lc\": 13,\n",
        "      \"clay\": 2.0,\n",
        "      \"silt\": 10.0,\n",
        "      \"sand\": 88.0,\n",
        "      \"dem\": 331,\n",
        "      \"slope\": 0.03,\n",
        "      \"aspect\": 6.28,\n",
        "      \"hillshade\": 0.7588,\n",
        "      \"twi\": 5.87,\n",
        "      \"mrvbf\": 4.72\n",
        "}\n",
        "\n",
        "api_request(data)"
      ],
      "metadata": {
        "colab": {
          "base_uri": "https://localhost:8080/"
        },
        "id": "dJD4tJib_vmF",
        "outputId": "653bf3cf-aafd-4a2a-d770-c9473cebd341"
      },
      "execution_count": 28,
      "outputs": [
        {
          "output_type": "stream",
          "name": "stdout",
          "text": [
            "Status Code: 200\n",
            "{'soil_organic_carbon_stock': 0.156434471283}\n"
          ]
        }
      ]
    }
  ]
}