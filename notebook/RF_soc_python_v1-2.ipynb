{
  "nbformat": 4,
  "nbformat_minor": 0,
  "metadata": {
    "colab": {
      "provenance": [],
      "toc_visible": true
    },
    "kernelspec": {
      "name": "python3",
      "display_name": "Python 3"
    },
    "language_info": {
      "name": "python"
    }
  },
  "cells": [
    {
      "cell_type": "code",
      "execution_count": 33,
      "metadata": {
        "id": "YKU7mqVffduH"
      },
      "outputs": [],
      "source": [
        "# Pandas is used for data manipulation\n",
        "import pandas as pd\n"
      ]
    },
    {
      "cell_type": "markdown",
      "source": [
        "## RF on SOCS model using python -- Huang et al., 2019"
      ],
      "metadata": {
        "id": "Q3NHQ2XdS1-C"
      }
    },
    {
      "cell_type": "markdown",
      "source": [
        "### Perform RF"
      ],
      "metadata": {
        "id": "iIcjTutlWj1y"
      }
    },
    {
      "cell_type": "code",
      "source": [
        "from google.colab import drive\n",
        "drive.mount('/content/drive')\n",
        "\n",
        "path='/content/drive/Shareddrives/DS Projects/Jingyi Huang-Cyber Infrastructure/From Jingyi/CI-submission&RFmodel/'"
      ],
      "metadata": {
        "colab": {
          "base_uri": "https://localhost:8080/"
        },
        "id": "K5aru8BcssC2",
        "outputId": "0dc0217f-fd09-4e60-e28e-7317932e6c93"
      },
      "execution_count": 34,
      "outputs": [
        {
          "output_type": "stream",
          "name": "stdout",
          "text": [
            "Drive already mounted at /content/drive; to attempt to forcibly remount, call drive.mount(\"/content/drive\", force_remount=True).\n"
          ]
        }
      ]
    },
    {
      "cell_type": "code",
      "source": [
        "import pandas as pd\n",
        "import numpy as np\n",
        "\n",
        "# Read the data in CSV format\n",
        "soil_data = pd.read_csv(path+'Data/soil.txt', header=0, sep=\",\")\n",
        "\n",
        "soil_data = soil_data.dropna()\n",
        "soil_df = soil_data.drop(soil_data.columns[[0, 1, 2, 3, 16, 19]], axis=1)\n",
        "\n",
        "\n",
        "# Convert column 16 (now column 12 after dropping columns) to categorical type\n",
        "soil_df.iloc[:, 12] = soil_df.iloc[:, 12].astype('category')\n",
        "\n",
        "soil_df['lc2'] = 'lc'\n",
        "\n",
        "# create a new column 'Land_Cover' based on conditions\n",
        "conditions = [\n",
        "    (soil_df.iloc[:, 15] == 8),\n",
        "    (soil_df.iloc[:, 15] == 9),\n",
        "    (soil_df.iloc[:, 15] == 10),\n",
        "    (soil_df.iloc[:, 15] == 11),\n",
        "    (soil_df.iloc[:, 15] == 13),\n",
        "    (soil_df.iloc[:, 15] == 14),\n",
        "    (soil_df.iloc[:, 15] == 15),\n",
        "    (soil_df.iloc[:, 15] == 16)\n",
        "]\n",
        "\n",
        "values = [\n",
        "    'Forest',\n",
        "    'Forest',\n",
        "    'Forest',\n",
        "    'Grassland',\n",
        "    'Cropland',\n",
        "    'Pasture',\n",
        "    'Wetland',\n",
        "    'Wetland'\n",
        "]\n",
        "\n",
        "soil_df['lc2'] = np.select(conditions, values, default='Unknown')"
      ],
      "metadata": {
        "id": "kY3mW8DXMGmd"
      },
      "execution_count": 35,
      "outputs": []
    },
    {
      "cell_type": "code",
      "source": [
        "soil_df.groupby('lc2').count()"
      ],
      "metadata": {
        "colab": {
          "base_uri": "https://localhost:8080/",
          "height": 252
        },
        "id": "UaGwBekxuX6Y",
        "outputId": "63a279b5-3630-4948-d37e-b654865f5064"
      },
      "execution_count": 36,
      "outputs": [
        {
          "output_type": "execute_result",
          "data": {
            "text/plain": [
              "            SOC  Depth   dem  slope  aspect  hillshade   twi  mrvbf  clay  \\\n",
              "lc2                                                                         \n",
              "Cropland    658    658   658    658     658        658   658    658   658   \n",
              "Forest     1528   1528  1528   1528    1528       1528  1528   1528  1528   \n",
              "Grassland    12     12    12     12      12         12    12     12    12   \n",
              "Pasture     649    649   649    649     649        649   649    649   649   \n",
              "Wetland      94     94    94     94      94         94    94     94    94   \n",
              "\n",
              "           silt  sand    pH  tmax  tmin  prcp    lc  \n",
              "lc2                                                  \n",
              "Cropland    658   658   658   658   658   658   658  \n",
              "Forest     1528  1528  1528  1528  1528  1528  1528  \n",
              "Grassland    12    12    12    12    12    12    12  \n",
              "Pasture     649   649   649   649   649   649   649  \n",
              "Wetland      94    94    94    94    94    94    94  "
            ],
            "text/html": [
              "\n",
              "  <div id=\"df-00fa75a0-a2e4-42ed-8005-994e3afa548d\" class=\"colab-df-container\">\n",
              "    <div>\n",
              "<style scoped>\n",
              "    .dataframe tbody tr th:only-of-type {\n",
              "        vertical-align: middle;\n",
              "    }\n",
              "\n",
              "    .dataframe tbody tr th {\n",
              "        vertical-align: top;\n",
              "    }\n",
              "\n",
              "    .dataframe thead th {\n",
              "        text-align: right;\n",
              "    }\n",
              "</style>\n",
              "<table border=\"1\" class=\"dataframe\">\n",
              "  <thead>\n",
              "    <tr style=\"text-align: right;\">\n",
              "      <th></th>\n",
              "      <th>SOC</th>\n",
              "      <th>Depth</th>\n",
              "      <th>dem</th>\n",
              "      <th>slope</th>\n",
              "      <th>aspect</th>\n",
              "      <th>hillshade</th>\n",
              "      <th>twi</th>\n",
              "      <th>mrvbf</th>\n",
              "      <th>clay</th>\n",
              "      <th>silt</th>\n",
              "      <th>sand</th>\n",
              "      <th>pH</th>\n",
              "      <th>tmax</th>\n",
              "      <th>tmin</th>\n",
              "      <th>prcp</th>\n",
              "      <th>lc</th>\n",
              "    </tr>\n",
              "    <tr>\n",
              "      <th>lc2</th>\n",
              "      <th></th>\n",
              "      <th></th>\n",
              "      <th></th>\n",
              "      <th></th>\n",
              "      <th></th>\n",
              "      <th></th>\n",
              "      <th></th>\n",
              "      <th></th>\n",
              "      <th></th>\n",
              "      <th></th>\n",
              "      <th></th>\n",
              "      <th></th>\n",
              "      <th></th>\n",
              "      <th></th>\n",
              "      <th></th>\n",
              "      <th></th>\n",
              "    </tr>\n",
              "  </thead>\n",
              "  <tbody>\n",
              "    <tr>\n",
              "      <th>Cropland</th>\n",
              "      <td>658</td>\n",
              "      <td>658</td>\n",
              "      <td>658</td>\n",
              "      <td>658</td>\n",
              "      <td>658</td>\n",
              "      <td>658</td>\n",
              "      <td>658</td>\n",
              "      <td>658</td>\n",
              "      <td>658</td>\n",
              "      <td>658</td>\n",
              "      <td>658</td>\n",
              "      <td>658</td>\n",
              "      <td>658</td>\n",
              "      <td>658</td>\n",
              "      <td>658</td>\n",
              "      <td>658</td>\n",
              "    </tr>\n",
              "    <tr>\n",
              "      <th>Forest</th>\n",
              "      <td>1528</td>\n",
              "      <td>1528</td>\n",
              "      <td>1528</td>\n",
              "      <td>1528</td>\n",
              "      <td>1528</td>\n",
              "      <td>1528</td>\n",
              "      <td>1528</td>\n",
              "      <td>1528</td>\n",
              "      <td>1528</td>\n",
              "      <td>1528</td>\n",
              "      <td>1528</td>\n",
              "      <td>1528</td>\n",
              "      <td>1528</td>\n",
              "      <td>1528</td>\n",
              "      <td>1528</td>\n",
              "      <td>1528</td>\n",
              "    </tr>\n",
              "    <tr>\n",
              "      <th>Grassland</th>\n",
              "      <td>12</td>\n",
              "      <td>12</td>\n",
              "      <td>12</td>\n",
              "      <td>12</td>\n",
              "      <td>12</td>\n",
              "      <td>12</td>\n",
              "      <td>12</td>\n",
              "      <td>12</td>\n",
              "      <td>12</td>\n",
              "      <td>12</td>\n",
              "      <td>12</td>\n",
              "      <td>12</td>\n",
              "      <td>12</td>\n",
              "      <td>12</td>\n",
              "      <td>12</td>\n",
              "      <td>12</td>\n",
              "    </tr>\n",
              "    <tr>\n",
              "      <th>Pasture</th>\n",
              "      <td>649</td>\n",
              "      <td>649</td>\n",
              "      <td>649</td>\n",
              "      <td>649</td>\n",
              "      <td>649</td>\n",
              "      <td>649</td>\n",
              "      <td>649</td>\n",
              "      <td>649</td>\n",
              "      <td>649</td>\n",
              "      <td>649</td>\n",
              "      <td>649</td>\n",
              "      <td>649</td>\n",
              "      <td>649</td>\n",
              "      <td>649</td>\n",
              "      <td>649</td>\n",
              "      <td>649</td>\n",
              "    </tr>\n",
              "    <tr>\n",
              "      <th>Wetland</th>\n",
              "      <td>94</td>\n",
              "      <td>94</td>\n",
              "      <td>94</td>\n",
              "      <td>94</td>\n",
              "      <td>94</td>\n",
              "      <td>94</td>\n",
              "      <td>94</td>\n",
              "      <td>94</td>\n",
              "      <td>94</td>\n",
              "      <td>94</td>\n",
              "      <td>94</td>\n",
              "      <td>94</td>\n",
              "      <td>94</td>\n",
              "      <td>94</td>\n",
              "      <td>94</td>\n",
              "      <td>94</td>\n",
              "    </tr>\n",
              "  </tbody>\n",
              "</table>\n",
              "</div>\n",
              "    <div class=\"colab-df-buttons\">\n",
              "\n",
              "  <div class=\"colab-df-container\">\n",
              "    <button class=\"colab-df-convert\" onclick=\"convertToInteractive('df-00fa75a0-a2e4-42ed-8005-994e3afa548d')\"\n",
              "            title=\"Convert this dataframe to an interactive table.\"\n",
              "            style=\"display:none;\">\n",
              "\n",
              "  <svg xmlns=\"http://www.w3.org/2000/svg\" height=\"24px\" viewBox=\"0 -960 960 960\">\n",
              "    <path d=\"M120-120v-720h720v720H120Zm60-500h600v-160H180v160Zm220 220h160v-160H400v160Zm0 220h160v-160H400v160ZM180-400h160v-160H180v160Zm440 0h160v-160H620v160ZM180-180h160v-160H180v160Zm440 0h160v-160H620v160Z\"/>\n",
              "  </svg>\n",
              "    </button>\n",
              "\n",
              "  <style>\n",
              "    .colab-df-container {\n",
              "      display:flex;\n",
              "      gap: 12px;\n",
              "    }\n",
              "\n",
              "    .colab-df-convert {\n",
              "      background-color: #E8F0FE;\n",
              "      border: none;\n",
              "      border-radius: 50%;\n",
              "      cursor: pointer;\n",
              "      display: none;\n",
              "      fill: #1967D2;\n",
              "      height: 32px;\n",
              "      padding: 0 0 0 0;\n",
              "      width: 32px;\n",
              "    }\n",
              "\n",
              "    .colab-df-convert:hover {\n",
              "      background-color: #E2EBFA;\n",
              "      box-shadow: 0px 1px 2px rgba(60, 64, 67, 0.3), 0px 1px 3px 1px rgba(60, 64, 67, 0.15);\n",
              "      fill: #174EA6;\n",
              "    }\n",
              "\n",
              "    .colab-df-buttons div {\n",
              "      margin-bottom: 4px;\n",
              "    }\n",
              "\n",
              "    [theme=dark] .colab-df-convert {\n",
              "      background-color: #3B4455;\n",
              "      fill: #D2E3FC;\n",
              "    }\n",
              "\n",
              "    [theme=dark] .colab-df-convert:hover {\n",
              "      background-color: #434B5C;\n",
              "      box-shadow: 0px 1px 3px 1px rgba(0, 0, 0, 0.15);\n",
              "      filter: drop-shadow(0px 1px 2px rgba(0, 0, 0, 0.3));\n",
              "      fill: #FFFFFF;\n",
              "    }\n",
              "  </style>\n",
              "\n",
              "    <script>\n",
              "      const buttonEl =\n",
              "        document.querySelector('#df-00fa75a0-a2e4-42ed-8005-994e3afa548d button.colab-df-convert');\n",
              "      buttonEl.style.display =\n",
              "        google.colab.kernel.accessAllowed ? 'block' : 'none';\n",
              "\n",
              "      async function convertToInteractive(key) {\n",
              "        const element = document.querySelector('#df-00fa75a0-a2e4-42ed-8005-994e3afa548d');\n",
              "        const dataTable =\n",
              "          await google.colab.kernel.invokeFunction('convertToInteractive',\n",
              "                                                    [key], {});\n",
              "        if (!dataTable) return;\n",
              "\n",
              "        const docLinkHtml = 'Like what you see? Visit the ' +\n",
              "          '<a target=\"_blank\" href=https://colab.research.google.com/notebooks/data_table.ipynb>data table notebook</a>'\n",
              "          + ' to learn more about interactive tables.';\n",
              "        element.innerHTML = '';\n",
              "        dataTable['output_type'] = 'display_data';\n",
              "        await google.colab.output.renderOutput(dataTable, element);\n",
              "        const docLink = document.createElement('div');\n",
              "        docLink.innerHTML = docLinkHtml;\n",
              "        element.appendChild(docLink);\n",
              "      }\n",
              "    </script>\n",
              "  </div>\n",
              "\n",
              "\n",
              "<div id=\"df-912718b1-e412-4791-a9c4-18b9d5b849cf\">\n",
              "  <button class=\"colab-df-quickchart\" onclick=\"quickchart('df-912718b1-e412-4791-a9c4-18b9d5b849cf')\"\n",
              "            title=\"Suggest charts\"\n",
              "            style=\"display:none;\">\n",
              "\n",
              "<svg xmlns=\"http://www.w3.org/2000/svg\" height=\"24px\"viewBox=\"0 0 24 24\"\n",
              "     width=\"24px\">\n",
              "    <g>\n",
              "        <path d=\"M19 3H5c-1.1 0-2 .9-2 2v14c0 1.1.9 2 2 2h14c1.1 0 2-.9 2-2V5c0-1.1-.9-2-2-2zM9 17H7v-7h2v7zm4 0h-2V7h2v10zm4 0h-2v-4h2v4z\"/>\n",
              "    </g>\n",
              "</svg>\n",
              "  </button>\n",
              "\n",
              "<style>\n",
              "  .colab-df-quickchart {\n",
              "      --bg-color: #E8F0FE;\n",
              "      --fill-color: #1967D2;\n",
              "      --hover-bg-color: #E2EBFA;\n",
              "      --hover-fill-color: #174EA6;\n",
              "      --disabled-fill-color: #AAA;\n",
              "      --disabled-bg-color: #DDD;\n",
              "  }\n",
              "\n",
              "  [theme=dark] .colab-df-quickchart {\n",
              "      --bg-color: #3B4455;\n",
              "      --fill-color: #D2E3FC;\n",
              "      --hover-bg-color: #434B5C;\n",
              "      --hover-fill-color: #FFFFFF;\n",
              "      --disabled-bg-color: #3B4455;\n",
              "      --disabled-fill-color: #666;\n",
              "  }\n",
              "\n",
              "  .colab-df-quickchart {\n",
              "    background-color: var(--bg-color);\n",
              "    border: none;\n",
              "    border-radius: 50%;\n",
              "    cursor: pointer;\n",
              "    display: none;\n",
              "    fill: var(--fill-color);\n",
              "    height: 32px;\n",
              "    padding: 0;\n",
              "    width: 32px;\n",
              "  }\n",
              "\n",
              "  .colab-df-quickchart:hover {\n",
              "    background-color: var(--hover-bg-color);\n",
              "    box-shadow: 0 1px 2px rgba(60, 64, 67, 0.3), 0 1px 3px 1px rgba(60, 64, 67, 0.15);\n",
              "    fill: var(--button-hover-fill-color);\n",
              "  }\n",
              "\n",
              "  .colab-df-quickchart-complete:disabled,\n",
              "  .colab-df-quickchart-complete:disabled:hover {\n",
              "    background-color: var(--disabled-bg-color);\n",
              "    fill: var(--disabled-fill-color);\n",
              "    box-shadow: none;\n",
              "  }\n",
              "\n",
              "  .colab-df-spinner {\n",
              "    border: 2px solid var(--fill-color);\n",
              "    border-color: transparent;\n",
              "    border-bottom-color: var(--fill-color);\n",
              "    animation:\n",
              "      spin 1s steps(1) infinite;\n",
              "  }\n",
              "\n",
              "  @keyframes spin {\n",
              "    0% {\n",
              "      border-color: transparent;\n",
              "      border-bottom-color: var(--fill-color);\n",
              "      border-left-color: var(--fill-color);\n",
              "    }\n",
              "    20% {\n",
              "      border-color: transparent;\n",
              "      border-left-color: var(--fill-color);\n",
              "      border-top-color: var(--fill-color);\n",
              "    }\n",
              "    30% {\n",
              "      border-color: transparent;\n",
              "      border-left-color: var(--fill-color);\n",
              "      border-top-color: var(--fill-color);\n",
              "      border-right-color: var(--fill-color);\n",
              "    }\n",
              "    40% {\n",
              "      border-color: transparent;\n",
              "      border-right-color: var(--fill-color);\n",
              "      border-top-color: var(--fill-color);\n",
              "    }\n",
              "    60% {\n",
              "      border-color: transparent;\n",
              "      border-right-color: var(--fill-color);\n",
              "    }\n",
              "    80% {\n",
              "      border-color: transparent;\n",
              "      border-right-color: var(--fill-color);\n",
              "      border-bottom-color: var(--fill-color);\n",
              "    }\n",
              "    90% {\n",
              "      border-color: transparent;\n",
              "      border-bottom-color: var(--fill-color);\n",
              "    }\n",
              "  }\n",
              "</style>\n",
              "\n",
              "  <script>\n",
              "    async function quickchart(key) {\n",
              "      const quickchartButtonEl =\n",
              "        document.querySelector('#' + key + ' button');\n",
              "      quickchartButtonEl.disabled = true;  // To prevent multiple clicks.\n",
              "      quickchartButtonEl.classList.add('colab-df-spinner');\n",
              "      try {\n",
              "        const charts = await google.colab.kernel.invokeFunction(\n",
              "            'suggestCharts', [key], {});\n",
              "      } catch (error) {\n",
              "        console.error('Error during call to suggestCharts:', error);\n",
              "      }\n",
              "      quickchartButtonEl.classList.remove('colab-df-spinner');\n",
              "      quickchartButtonEl.classList.add('colab-df-quickchart-complete');\n",
              "    }\n",
              "    (() => {\n",
              "      let quickchartButtonEl =\n",
              "        document.querySelector('#df-912718b1-e412-4791-a9c4-18b9d5b849cf button');\n",
              "      quickchartButtonEl.style.display =\n",
              "        google.colab.kernel.accessAllowed ? 'block' : 'none';\n",
              "    })();\n",
              "  </script>\n",
              "</div>\n",
              "    </div>\n",
              "  </div>\n"
            ],
            "application/vnd.google.colaboratory.intrinsic+json": {
              "type": "dataframe",
              "summary": "{\n  \"name\": \"soil_df\",\n  \"rows\": 5,\n  \"fields\": [\n    {\n      \"column\": \"lc2\",\n      \"properties\": {\n        \"dtype\": \"string\",\n        \"num_unique_values\": 5,\n        \"samples\": [\n          \"Forest\",\n          \"Wetland\",\n          \"Grassland\"\n        ],\n        \"semantic_type\": \"\",\n        \"description\": \"\"\n      }\n    },\n    {\n      \"column\": \"SOC\",\n      \"properties\": {\n        \"dtype\": \"number\",\n        \"std\": 605,\n        \"min\": 12,\n        \"max\": 1528,\n        \"num_unique_values\": 5,\n        \"samples\": [\n          1528,\n          94,\n          12\n        ],\n        \"semantic_type\": \"\",\n        \"description\": \"\"\n      }\n    },\n    {\n      \"column\": \"Depth\",\n      \"properties\": {\n        \"dtype\": \"number\",\n        \"std\": 605,\n        \"min\": 12,\n        \"max\": 1528,\n        \"num_unique_values\": 5,\n        \"samples\": [\n          1528,\n          94,\n          12\n        ],\n        \"semantic_type\": \"\",\n        \"description\": \"\"\n      }\n    },\n    {\n      \"column\": \"dem\",\n      \"properties\": {\n        \"dtype\": \"number\",\n        \"std\": 605,\n        \"min\": 12,\n        \"max\": 1528,\n        \"num_unique_values\": 5,\n        \"samples\": [\n          1528,\n          94,\n          12\n        ],\n        \"semantic_type\": \"\",\n        \"description\": \"\"\n      }\n    },\n    {\n      \"column\": \"slope\",\n      \"properties\": {\n        \"dtype\": \"number\",\n        \"std\": 605,\n        \"min\": 12,\n        \"max\": 1528,\n        \"num_unique_values\": 5,\n        \"samples\": [\n          1528,\n          94,\n          12\n        ],\n        \"semantic_type\": \"\",\n        \"description\": \"\"\n      }\n    },\n    {\n      \"column\": \"aspect\",\n      \"properties\": {\n        \"dtype\": \"number\",\n        \"std\": 605,\n        \"min\": 12,\n        \"max\": 1528,\n        \"num_unique_values\": 5,\n        \"samples\": [\n          1528,\n          94,\n          12\n        ],\n        \"semantic_type\": \"\",\n        \"description\": \"\"\n      }\n    },\n    {\n      \"column\": \"hillshade\",\n      \"properties\": {\n        \"dtype\": \"number\",\n        \"std\": 605,\n        \"min\": 12,\n        \"max\": 1528,\n        \"num_unique_values\": 5,\n        \"samples\": [\n          1528,\n          94,\n          12\n        ],\n        \"semantic_type\": \"\",\n        \"description\": \"\"\n      }\n    },\n    {\n      \"column\": \"twi\",\n      \"properties\": {\n        \"dtype\": \"number\",\n        \"std\": 605,\n        \"min\": 12,\n        \"max\": 1528,\n        \"num_unique_values\": 5,\n        \"samples\": [\n          1528,\n          94,\n          12\n        ],\n        \"semantic_type\": \"\",\n        \"description\": \"\"\n      }\n    },\n    {\n      \"column\": \"mrvbf\",\n      \"properties\": {\n        \"dtype\": \"number\",\n        \"std\": 605,\n        \"min\": 12,\n        \"max\": 1528,\n        \"num_unique_values\": 5,\n        \"samples\": [\n          1528,\n          94,\n          12\n        ],\n        \"semantic_type\": \"\",\n        \"description\": \"\"\n      }\n    },\n    {\n      \"column\": \"clay\",\n      \"properties\": {\n        \"dtype\": \"number\",\n        \"std\": 605,\n        \"min\": 12,\n        \"max\": 1528,\n        \"num_unique_values\": 5,\n        \"samples\": [\n          1528,\n          94,\n          12\n        ],\n        \"semantic_type\": \"\",\n        \"description\": \"\"\n      }\n    },\n    {\n      \"column\": \"silt\",\n      \"properties\": {\n        \"dtype\": \"number\",\n        \"std\": 605,\n        \"min\": 12,\n        \"max\": 1528,\n        \"num_unique_values\": 5,\n        \"samples\": [\n          1528,\n          94,\n          12\n        ],\n        \"semantic_type\": \"\",\n        \"description\": \"\"\n      }\n    },\n    {\n      \"column\": \"sand\",\n      \"properties\": {\n        \"dtype\": \"number\",\n        \"std\": 605,\n        \"min\": 12,\n        \"max\": 1528,\n        \"num_unique_values\": 5,\n        \"samples\": [\n          1528,\n          94,\n          12\n        ],\n        \"semantic_type\": \"\",\n        \"description\": \"\"\n      }\n    },\n    {\n      \"column\": \"pH\",\n      \"properties\": {\n        \"dtype\": \"number\",\n        \"std\": 605,\n        \"min\": 12,\n        \"max\": 1528,\n        \"num_unique_values\": 5,\n        \"samples\": [\n          1528,\n          94,\n          12\n        ],\n        \"semantic_type\": \"\",\n        \"description\": \"\"\n      }\n    },\n    {\n      \"column\": \"tmax\",\n      \"properties\": {\n        \"dtype\": \"number\",\n        \"std\": 605,\n        \"min\": 12,\n        \"max\": 1528,\n        \"num_unique_values\": 5,\n        \"samples\": [\n          1528,\n          94,\n          12\n        ],\n        \"semantic_type\": \"\",\n        \"description\": \"\"\n      }\n    },\n    {\n      \"column\": \"tmin\",\n      \"properties\": {\n        \"dtype\": \"number\",\n        \"std\": 605,\n        \"min\": 12,\n        \"max\": 1528,\n        \"num_unique_values\": 5,\n        \"samples\": [\n          1528,\n          94,\n          12\n        ],\n        \"semantic_type\": \"\",\n        \"description\": \"\"\n      }\n    },\n    {\n      \"column\": \"prcp\",\n      \"properties\": {\n        \"dtype\": \"number\",\n        \"std\": 605,\n        \"min\": 12,\n        \"max\": 1528,\n        \"num_unique_values\": 5,\n        \"samples\": [\n          1528,\n          94,\n          12\n        ],\n        \"semantic_type\": \"\",\n        \"description\": \"\"\n      }\n    },\n    {\n      \"column\": \"lc\",\n      \"properties\": {\n        \"dtype\": \"number\",\n        \"std\": 605,\n        \"min\": 12,\n        \"max\": 1528,\n        \"num_unique_values\": 5,\n        \"samples\": [\n          1528,\n          94,\n          12\n        ],\n        \"semantic_type\": \"\",\n        \"description\": \"\"\n      }\n    }\n  ]\n}"
            }
          },
          "metadata": {},
          "execution_count": 36
        }
      ]
    },
    {
      "cell_type": "code",
      "source": [
        "len(soil_df)"
      ],
      "metadata": {
        "colab": {
          "base_uri": "https://localhost:8080/"
        },
        "id": "UEUr6s6MvBVu",
        "outputId": "4c80f9dd-b62f-4bc3-88ad-d49a87430633"
      },
      "execution_count": 37,
      "outputs": [
        {
          "output_type": "execute_result",
          "data": {
            "text/plain": [
              "2941"
            ]
          },
          "metadata": {},
          "execution_count": 37
        }
      ]
    },
    {
      "cell_type": "code",
      "source": [
        "import pandas as pd\n",
        "from sklearn.model_selection import train_test_split\n",
        "\n",
        "# Assuming soil_data is your original DataFrame\n",
        "\n",
        "# Get the number of unique Soil_IDs\n",
        "nlength = soil_data['Soil_ID'].nunique()\n",
        "\n",
        "# Split the data into calibration (75%) and validation (25%) sets\n",
        "train_data, val_data = train_test_split(soil_data, test_size=0.25, random_state=111, stratify=soil_data['Soil_ID'])\n",
        "\n",
        "# Create calibration and validation DataFrames\n",
        "cali = train_data#[['Soil_ID', 'lc2', 'Land_Cover']]\n",
        "vali = val_data#[['Soil_ID', 'lc2', 'Land_Cover']]\n",
        "\n",
        "# Print the summary of the calibration set\n",
        "print(\"Calibration set:\")\n",
        "print(len(cali))\n",
        "\n",
        "# Print the summary of the validation set\n",
        "print(\"\\nValidation set:\")\n",
        "print(len(vali))"
      ],
      "metadata": {
        "colab": {
          "base_uri": "https://localhost:8080/"
        },
        "id": "hp7_sQKovaEa",
        "outputId": "6451c22a-0502-4599-bc56-bbf25be4f61a"
      },
      "execution_count": 38,
      "outputs": [
        {
          "output_type": "stream",
          "name": "stdout",
          "text": [
            "Calibration set:\n",
            "2205\n",
            "\n",
            "Validation set:\n",
            "736\n"
          ]
        }
      ]
    },
    {
      "cell_type": "code",
      "source": [
        "from sklearn.ensemble import RandomForestRegressor\n",
        "from sklearn.metrics import r2_score\n",
        "\n",
        "# Define the features and target variable\n",
        "features = ['Depth', 'tmax', 'tmin', 'prcp', 'lc', 'clay', 'silt', 'sand', 'dem', 'slope', 'aspect', 'hillshade', 'twi', 'mrvbf']\n",
        "target = 'SOC'\n",
        "\n",
        "# Extract features and target variable for calibration set\n",
        "X_cali = cali[features]\n",
        "y_cali = cali[target]\n",
        "\n",
        "# Train the Random Forest model\n",
        "rf_model = RandomForestRegressor(n_estimators=500, max_features=10, random_state=42)\n",
        "rf_model.fit(X_cali, y_cali)\n",
        "\n",
        "# Predict on the calibration data\n",
        "rf_predict = rf_model.predict(X_cali)\n",
        "\n",
        "# Calculate goodness of fit\n",
        "gof_rf_predict = r2_score(y_cali, rf_predict)\n",
        "\n",
        "# Calibration\n",
        "print(\"Goodness of fit:\", gof_rf_predict)\n"
      ],
      "metadata": {
        "colab": {
          "base_uri": "https://localhost:8080/"
        },
        "id": "huJUf_6hMkcW",
        "outputId": "49bdf26e-e198-4a62-caf9-d260da505446"
      },
      "execution_count": 40,
      "outputs": [
        {
          "output_type": "stream",
          "name": "stdout",
          "text": [
            "Goodness of fit: 0.8931929486830533\n"
          ]
        }
      ]
    },
    {
      "cell_type": "markdown",
      "source": [
        "### Saving the model"
      ],
      "metadata": {
        "id": "o0-OYhFUD2Sl"
      }
    },
    {
      "cell_type": "code",
      "source": [
        "path"
      ],
      "metadata": {
        "colab": {
          "base_uri": "https://localhost:8080/",
          "height": 56
        },
        "id": "ljc8tONED_3H",
        "outputId": "4247eb8b-46ec-48c9-c44f-d48d066653f0"
      },
      "execution_count": 41,
      "outputs": [
        {
          "output_type": "execute_result",
          "data": {
            "text/plain": [
              "'/content/drive/Shareddrives/DS Projects/Jingyi Huang-Cyber Infrastructure/From Jingyi/CI-submission&RFmodel/'"
            ],
            "application/vnd.google.colaboratory.intrinsic+json": {
              "type": "string"
            }
          },
          "metadata": {},
          "execution_count": 41
        }
      ]
    },
    {
      "cell_type": "code",
      "source": [
        "from joblib import dump\n",
        "\n",
        "# Saving the model\n",
        "dump(rf_model, path+'rf_model.joblib')\n"
      ],
      "metadata": {
        "colab": {
          "base_uri": "https://localhost:8080/"
        },
        "id": "kF0moxeDNFda",
        "outputId": "4307b6c6-1e4b-4a3f-9473-2b8cc3cbe637"
      },
      "execution_count": 45,
      "outputs": [
        {
          "output_type": "execute_result",
          "data": {
            "text/plain": [
              "['/content/drive/Shareddrives/DS Projects/Jingyi Huang-Cyber Infrastructure/From Jingyi/CI-submission&RFmodel/rf_model.joblib']"
            ]
          },
          "metadata": {},
          "execution_count": 45
        }
      ]
    },
    {
      "cell_type": "markdown",
      "source": [
        "### Testing the pickle and API"
      ],
      "metadata": {
        "id": "CY89yNv6DUzM"
      }
    },
    {
      "cell_type": "code",
      "source": [
        "example1 = {\"Depth\": 5,\n",
        "            \"tmax\": 10.702739716,\n",
        "            \"tmin\": 0.5561643839,\n",
        "            \"prcp\": 753.0,\n",
        "            \"lc\": 9.0,\n",
        "            \"clay\": 10.0,\n",
        "            \"silt\": 35.0,\n",
        "            \"sand\": 55.0,\n",
        "            \"dem\": 189,\n",
        "            \"slope\": 5.69661e-05,\n",
        "            \"aspect\": 6.283185482,\n",
        "            \"hillshade\": 0.7853578925,\n",
        "            \"twi\": 11.223488808,\n",
        "            \"mrvbf\": 2.5688176155\n",
        "      }"
      ],
      "metadata": {
        "id": "WEPQUye_HZgS"
      },
      "execution_count": 59,
      "outputs": []
    },
    {
      "cell_type": "code",
      "source": [
        "## TEsting the pickle model\n",
        "\n",
        "features = ['Depth', 'tmax', 'tmin', 'prcp', 'lc', 'clay', 'silt', 'sand', 'dem', 'slope', 'aspect', 'hillshade', 'twi', 'mrvbf']\n",
        "#dictionary = {key: [value] for key, value in class_model.dict().items()}\n",
        "df = pd.DataFrame([example])\n",
        "\n",
        "print(df)\n",
        "\n",
        "new=rf_model.predict(df[features])[0]\n",
        "print(new)"
      ],
      "metadata": {
        "colab": {
          "base_uri": "https://localhost:8080/"
        },
        "id": "1T83-ClEHZjA",
        "outputId": "0ac8175f-86e8-4c4e-de69-f682abd11033"
      },
      "execution_count": null,
      "outputs": [
        {
          "output_type": "stream",
          "name": "stdout",
          "text": [
            "   Depth      tmax      tmin   prcp   lc  clay  silt  sand  dem     slope  \\\n",
            "0      5  10.70274  0.556164  753.0  9.0  10.0  35.0  55.0  189  0.000057   \n",
            "\n",
            "     aspect  hillshade        twi     mrvbf  \n",
            "0  6.283185   0.785358  11.223489  2.568818  \n",
            "5.626214404736811\n"
          ]
        }
      ]
    },
    {
      "cell_type": "markdown",
      "source": [
        "### API CALLS"
      ],
      "metadata": {
        "id": "QNo6dKtASm72"
      }
    },
    {
      "cell_type": "code",
      "source": [
        "# Maybe customize this url, an option \"https://connect.doit.wisc.edu/content/jhuang_socs_forecasting\"\n",
        "url_path=\"https://connect.doit.wisc.edu/content/37ea4362-968a-4899-bc03-244f4d92d826\""
      ],
      "metadata": {
        "id": "k-s5DnxiVPHs"
      },
      "execution_count": 97,
      "outputs": []
    },
    {
      "cell_type": "code",
      "source": [
        "import requests\n",
        "import json\n",
        "import warnings\n",
        "warnings.filterwarnings(\"ignore\", message=\"Unverified HTTPS request is being made.*\")\n",
        "\n",
        "connect_api_key = 'XXXXX'"
      ],
      "metadata": {
        "id": "1q4Jo6OHGmqo"
      },
      "execution_count": 98,
      "outputs": []
    },
    {
      "cell_type": "code",
      "source": [
        "def api_request(data):\n",
        "  data_json = json.dumps(data)\n",
        "\n",
        "  headers = {\n",
        "    \"Authorization\": f\"Key {connect_api_key}\",\n",
        "    \"accept\": \"application/json\",\n",
        "    \"Content-Type\": \"application/json\"\n",
        "  }\n",
        "\n",
        "  request_url = url_path+\"/v1/prediction\"\n",
        "  #build_url(connect_server, url_path)\n",
        "\n",
        "  # Make the POST request with verification disabled\n",
        "  response = requests.post(request_url, headers=headers, data=data_json, verify=False)\n",
        "\n",
        "  # Response\n",
        "  print(f\"Status Code: {response.status_code}\")\n",
        "  try:\n",
        "      response_json = response.json()\n",
        "      print(response_json)\n",
        "  except json.JSONDecodeError:\n",
        "      print(\"Response content is not in JSON format.\")\n",
        "      print(response.text)"
      ],
      "metadata": {
        "id": "AY33_TgdG2B5"
      },
      "execution_count": 99,
      "outputs": []
    },
    {
      "cell_type": "markdown",
      "source": [
        "#### Example 1"
      ],
      "metadata": {
        "id": "rHmPtsFWRfDR"
      }
    },
    {
      "cell_type": "code",
      "source": [
        "#2137\n",
        "data = {\n",
        "    #\"SOC\": 13.19165618,\n",
        "    \"Depth\": 5,\"tmax\":11.426027,\n",
        "    \"tmin\": 0.17808220,\"prcp\": 633,\"lc\": 15,\"clay\": 12,\n",
        "    \"silt\": 20,\n",
        "    \"sand\": 68,\n",
        "    \"dem\": 295,\n",
        "    \"slope\": 0.0000357995,\n",
        "    \"aspect\": 5.8894872665,\n",
        "    \"hillshade\": 0.7853651,\n",
        "    \"twi\": 12.869823,\n",
        "    \"mrvbf\": 7.093913e+00\n",
        "} #prediction 7.98289171\n",
        "\n",
        "print(\"The prediction from R output is: \", 7.98289171)\n",
        "print(\"The prediction from python implementation is: \")\n",
        "api_request(data)"
      ],
      "metadata": {
        "colab": {
          "base_uri": "https://localhost:8080/"
        },
        "id": "hgv0IOWhGzvi",
        "outputId": "4bb3467a-6191-46a0-def8-cafbc647f472"
      },
      "execution_count": 100,
      "outputs": [
        {
          "output_type": "stream",
          "name": "stdout",
          "text": [
            "The prediction from R output is:  7.98289171\n",
            "The prediction from python implementation is: \n",
            "Status Code: 200\n",
            "{'soil_organic_carbon_stock': 9.345605187969879}\n"
          ]
        }
      ]
    },
    {
      "cell_type": "markdown",
      "source": [
        "#### Example 2"
      ],
      "metadata": {
        "id": "hOgFIUMkRcDX"
      }
    },
    {
      "cell_type": "code",
      "source": [
        "#2735 from validation\n",
        "data = {\n",
        "    #\"SOC\": 13.19165618,\n",
        "    \"Depth\": 15,\"tmax\":12.865753,\n",
        "    \"tmin\": 1.56712329,\"prcp\": 1052,\"lc\": 8,\"clay\": 14,\n",
        "    \"silt\": 66,\n",
        "    \"sand\": 20,\n",
        "    \"dem\": 295,\n",
        "    \"slope\": 0.2205786258,\n",
        "    \"aspect\": 5.4452042580,\n",
        "    \"hillshade\": 0.5652189,\n",
        "    \"twi\": 6.078456,\n",
        "    \"mrvbf\": 4.363611e-03\n",
        "}"
      ],
      "metadata": {
        "id": "xCJOdG9sRbZv"
      },
      "execution_count": 86,
      "outputs": []
    },
    {
      "cell_type": "code",
      "source": [
        "print(\"The prediction from R output is: \", 1.27211851)\n",
        "print(\"The prediction from python implementation is: \")\n",
        "api_request(data)"
      ],
      "metadata": {
        "colab": {
          "base_uri": "https://localhost:8080/"
        },
        "id": "Osgtv3YOFjg8",
        "outputId": "6e4081f0-ca71-46cd-95b2-96c9bf4b4c8b"
      },
      "execution_count": 87,
      "outputs": [
        {
          "output_type": "stream",
          "name": "stdout",
          "text": [
            "The prediction from R output is:  1.27211851\n",
            "The prediction from python implementation is: \n",
            "Status Code: 200\n",
            "{'soil_organic_carbon_stock': 1.2558310193539057}\n"
          ]
        }
      ]
    },
    {
      "cell_type": "markdown",
      "source": [
        "####. Null example"
      ],
      "metadata": {
        "id": "bbw94pYDSVf_"
      }
    },
    {
      "cell_type": "code",
      "source": [
        "#print(\"The prediction from R output is: \", 1.27211851)\n",
        "print(\"The prediction from python implementation is: \")\n",
        "api_request(data)\n"
      ],
      "metadata": {
        "colab": {
          "base_uri": "https://localhost:8080/"
        },
        "id": "GrsK3hbg-9P0",
        "outputId": "7309e550-ae9d-4934-efa5-70f255bf46a6"
      },
      "execution_count": 68,
      "outputs": [
        {
          "output_type": "stream",
          "name": "stderr",
          "text": [
            "/usr/local/lib/python3.10/dist-packages/urllib3/connectionpool.py:1100: InsecureRequestWarning: Unverified HTTPS request is being made to host 'connect.doit.wisc.edu'. Adding certificate verification is strongly advised. See: https://urllib3.readthedocs.io/en/latest/advanced-usage.html#tls-warnings\n",
            "  warnings.warn(\n",
            "/usr/local/lib/python3.10/dist-packages/urllib3/connectionpool.py:1100: InsecureRequestWarning: Unverified HTTPS request is being made to host 'connect.doit.wisc.edu'. Adding certificate verification is strongly advised. See: https://urllib3.readthedocs.io/en/latest/advanced-usage.html#tls-warnings\n",
            "  warnings.warn(\n"
          ]
        },
        {
          "output_type": "stream",
          "name": "stdout",
          "text": [
            "Status Code: 200\n",
            "{'soil_organic_carbon_stock': 5.626214404736811}\n"
          ]
        }
      ]
    },
    {
      "cell_type": "markdown",
      "source": [
        "#### Just testing"
      ],
      "metadata": {
        "id": "Ey9ARAmHSehz"
      }
    },
    {
      "cell_type": "code",
      "source": [
        "data = {\n",
        "      \"Depth\": 60,\n",
        "      \"tmax\": 12.42,\n",
        "      \"tmin\": 0.45,\n",
        "      \"prcp\": 954,\n",
        "      \"lc\": 13,\n",
        "      \"clay\": 2.0,\n",
        "      \"silt\": 10.0,\n",
        "      \"sand\": 88.0,\n",
        "      \"dem\": 331,\n",
        "      \"slope\": 0.03,\n",
        "      \"aspect\": 6.28,\n",
        "      \"hillshade\": 0.7588,\n",
        "      \"twi\": 5.87,\n",
        "      \"mrvbf\": 4.72\n",
        "}\n",
        "\n",
        "api_request(data)"
      ],
      "metadata": {
        "colab": {
          "base_uri": "https://localhost:8080/"
        },
        "id": "dJD4tJib_vmF",
        "outputId": "d1e3d87f-880f-45a7-9937-d8fc0b561d26"
      },
      "execution_count": 88,
      "outputs": [
        {
          "output_type": "stream",
          "name": "stdout",
          "text": [
            "Status Code: 200\n",
            "{'soil_organic_carbon_stock': 0.15928801590680008}\n"
          ]
        }
      ]
    },
    {
      "cell_type": "code",
      "source": [],
      "metadata": {
        "id": "pEuUZmJFScFk"
      },
      "execution_count": null,
      "outputs": []
    }
  ]
}